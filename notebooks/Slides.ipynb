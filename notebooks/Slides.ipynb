{
 "cells": [
  {
   "cell_type": "code",
   "execution_count": 1,
   "metadata": {
    "collapsed": false,
    "slideshow": {
     "slide_type": "skip"
    }
   },
   "outputs": [
    {
     "name": "stdout",
     "output_type": "stream",
     "text": [
      "/media/manuel/DATA/Backup/Proyectos/pydata_2016_talk\n"
     ]
    }
   ],
   "source": [
    "cd .."
   ]
  },
  {
   "cell_type": "markdown",
   "metadata": {
    "slideshow": {
     "slide_type": "skip"
    }
   },
   "source": [
    "ipython nbconvert notebooks/Slides.ipynb --to slides --post serve"
   ]
  },
  {
   "cell_type": "markdown",
   "metadata": {
    "slideshow": {
     "slide_type": "slide"
    }
   },
   "source": [
    "# A Primer on Recommendation Systems \n",
    "\n",
    "# Pydata Madrid 2016\n"
   ]
  },
  {
   "cell_type": "markdown",
   "metadata": {
    "slideshow": {
     "slide_type": "slide"
    }
   },
   "source": [
    "## About me (Manuel Garrido)\n",
    "\n",
    "* Data Scientist at [Scrapinghub](scrapinghub.com\n",
    "* Born in Portugal, Spanish/US Citizen\n",
    "* Industrial Engineer (in theory)\n",
    "* consultant-->analyst-->data scientist\n",
    "* excel-->R-->python-->spark\n",
    "\n",
    "## About Scrapinghub\n",
    "\n",
    "\n",
    "\n",
    "## Contact\n",
    "\n",
    "* [manugarri.com](http://manugarri.com)\n",
    "\n",
    "* @manugarri\n",
    "\n",
    "* manuel [a t] scrapinghub [d_o_t] com\n",
    "\n",
    "* hola [a t] manugarri [d_o_t] com"
   ]
  },
  {
   "cell_type": "markdown",
   "metadata": {
    "slideshow": {
     "slide_type": "slide"
    }
   },
   "source": [
    "### Agenda\n",
    "\n",
    "1. What are recommendation systems\n",
    "2. Content Filtering\n",
    "3. Collaborative Filtering"
   ]
  },
  {
   "cell_type": "code",
   "execution_count": 5,
   "metadata": {
    "collapsed": false,
    "slideshow": {
     "slide_type": "notes"
    }
   },
   "outputs": [
    {
     "name": "stdout",
     "output_type": "stream",
     "text": [
      "2016-04-04T23:01:39\n",
      "\n",
      "CPython 3.5.1\n",
      "IPython 4.1.2\n",
      "\n",
      "compiler   : GCC 4.4.7 20120313 (Red Hat 4.4.7-1)\n",
      "system     : Linux\n",
      "release    : 3.19.0-56-generic\n",
      "machine    : x86_64\n",
      "processor  : x86_64\n",
      "CPU cores  : 8\n",
      "interpreter: 64bit\n"
     ]
    }
   ],
   "source": [
    "%load_ext watermark\n",
    "%watermark"
   ]
  },
  {
   "cell_type": "markdown",
   "metadata": {
    "slideshow": {
     "slide_type": "slide"
    }
   },
   "source": [
    "# About the talk\n",
    "\n",
    "* Practical talk\n",
    "* Focused on examples\n",
    "\n",
    "**If you meet the requirements...** \n",
    "\n",
    "```\n",
    "pandas>=0.17\n",
    "numpy\n",
    "scipy\n",
    "```\n",
    "\n",
    "**...then clone the talk's repo and run a notebook**\n",
    "\n",
    "```\n",
    "git clone X\n",
    "cd X\n",
    "jupyter notebook\n",
    "```"
   ]
  },
  {
   "cell_type": "markdown",
   "metadata": {},
   "source": [
    "### Import dis"
   ]
  },
  {
   "cell_type": "code",
   "execution_count": 9,
   "metadata": {
    "collapsed": false
   },
   "outputs": [],
   "source": [
    "import pandas as pd\n",
    "import numpy as np\n",
    "from scipy.sparse.linalg import svds"
   ]
  },
  {
   "cell_type": "markdown",
   "metadata": {
    "collapsed": true,
    "slideshow": {
     "slide_type": "slide"
    }
   },
   "source": [
    "# 1. What are recommendation systems?\n",
    "\n",
    "![title](../assets/wiki-definition.png \"ShowMyImage\")"
   ]
  },
  {
   "cell_type": "markdown",
   "metadata": {},
   "source": [
    "![totle](../assets/lol.jpg)"
   ]
  },
  {
   "cell_type": "markdown",
   "metadata": {
    "slideshow": {
     "slide_type": "slide"
    }
   },
   "source": [
    "### Basis for recommending items to users:\n",
    "\n",
    "- **Item Information**\n",
    "  - Item characteristics\n",
    "- **User Information**\n",
    "  - User characteristics.\n",
    "  - User preferences.\n",
    "  - Users relationships\n",
    "  - User's previous interaction with our platform\n",
    "- **Platform Information**\n",
    "  - Business goals\n",
    "  - Availability"
   ]
  },
  {
   "cell_type": "markdown",
   "metadata": {
    "slideshow": {
     "slide_type": "slide"
    }
   },
   "source": [
    "### Similarity measures\n",
    "\n",
    "\n",
    "Recommendations are based on the concept of similarity. There are multiple ways of defining similarity, or say diferently,\n",
    "there are many similarity measures and each way applies to specific kinds of entities. Here are a few examples:\n",
    "\n",
    "* **Edit distance (Lehvenstein & variations)**:  used to measure similarity between two strings. It takes into account how many changes would need to be applied to a word to become another. \n",
    "\n",
    "![title](../assets/Levenshtein.png)\n",
    "\n",
    "* **Jaccard Index**: Useful when computing similarity among sets (one to many relations)\n",
    "\n",
    "$$J(A, B) = \\frac{|A \\bigcap B|}{ |A\\bigcup B|}$$"
   ]
  },
  {
   "cell_type": "markdown",
   "metadata": {},
   "source": [
    "### Similarity measures (cont.)\n",
    "\n",
    "* **Manhattan/Euclidean distance**:\n",
    "\n",
    "![distances](../assets/diagram_euclidean_manhattan_distance_metrics.png)\n",
    "\n",
    "* **cosine similarity**. \n",
    "\n",
    "![cosinm](../assets/cosinesim.png)\n",
    "\n",
    "* **and many more!**"
   ]
  },
  {
   "cell_type": "markdown",
   "metadata": {
    "slideshow": {
     "slide_type": "notes"
    }
   },
   "source": [
    "The Manhattan Distance is the distance between two points measured along axes at right angles\n",
    "The Euclidean distance or Euclidean metric is the \"ordinary\" (i.e. straight-line) distance between two points\n",
    "Cosine similarity  measures the cosine of the angle between them."
   ]
  },
  {
   "cell_type": "markdown",
   "metadata": {
    "slideshow": {
     "slide_type": "slide"
    }
   },
   "source": [
    "### Recommendation Systems Approaches\n",
    "- **Content Filtering**\n",
    "- **Collaborative Filtering**\n",
    "- **Hybrid Systems**\n",
    "- ** Other (Demographic / Social Recommendations)**"
   ]
  },
  {
   "cell_type": "markdown",
   "metadata": {
    "slideshow": {
     "slide_type": "slide"
    }
   },
   "source": [
    "#### Demographic recommendations\n",
    "\n",
    "* Use demographic information from the user to recommend items relevant to the user's stratum\n",
    "\n",
    "#### Social recommendations\n",
    "\n",
    "* Users sharing with other users"
   ]
  },
  {
   "cell_type": "markdown",
   "metadata": {
    "slideshow": {
     "slide_type": "slide"
    }
   },
   "source": [
    "# Content Filtering \n",
    "\n",
    "In a Content filtering recommendation system, items are mapped into a feature space, and\n",
    "recommendations depend on item characteristics.\n",
    "\n",
    " - That means that all the feature information we use is derived only from the items.\n",
    "\n",
    "- That does not mean that we don't rely on any user information, just that information is used only on the recommendation step, and not at computing time."
   ]
  },
  {
   "cell_type": "markdown",
   "metadata": {
    "slideshow": {
     "slide_type": "slide"
    }
   },
   "source": [
    "## Example 1\n",
    "![title](../assets/amazon_recommendations.jpeg \"ShowMyImage\")"
   ]
  },
  {
   "cell_type": "markdown",
   "metadata": {
    "slideshow": {
     "slide_type": "notes"
    }
   },
   "source": [
    "On earlier versions of Amazon, recommendations where provided based on both user previous purchases and what the user explicitly told the platform he/she owned.\n",
    "\n",
    "One way these recommendations could have been provided would by by first, mapping those books/dvs into a feature space\n",
    "(for books for example, narrative category,  male/female protagonist).\n",
    "\n",
    "Then, given the items the user has purchased, we can calculate the similarity between the items the user has purchased and all of Amazon items and return the most similar ones."
   ]
  },
  {
   "cell_type": "markdown",
   "metadata": {
    "slideshow": {
     "slide_type": "slide"
    }
   },
   "source": [
    "## Example\n",
    "![title](../assets/pandora0.png \"ShowMyImage\")"
   ]
  },
  {
   "cell_type": "markdown",
   "metadata": {
    "slideshow": {
     "slide_type": "notes"
    }
   },
   "source": [
    "Another example, Pandora, pandora is an online radio that is quite popular in the US.\n",
    "When you join you can select songs, artists or fetures to create your first station. Pandora uses those songs /artists you selected to recommend new ones that are similar."
   ]
  },
  {
   "cell_type": "markdown",
   "metadata": {
    "slideshow": {
     "slide_type": "slide"
    }
   },
   "source": [
    "![title](../assets/pandora1.png \"ShowMyImage\")"
   ]
  },
  {
   "cell_type": "markdown",
   "metadata": {
    "slideshow": {
     "slide_type": "notes"
    }
   },
   "source": [
    "Pandora allows us to add as many songs as we want to our station, each one improving the recommendations Pandora provides us."
   ]
  },
  {
   "cell_type": "markdown",
   "metadata": {},
   "source": [
    "![title](../assets/pandora3.png)\n",
    "\n",
    "https://www.pandora.com/about/mgp"
   ]
  },
  {
   "cell_type": "markdown",
   "metadata": {
    "slideshow": {
     "slide_type": "slide"
    }
   },
   "source": [
    "![title](../assets/pandora4.png)"
   ]
  },
  {
   "cell_type": "markdown",
   "metadata": {
    "slideshow": {
     "slide_type": "notes"
    }
   },
   "source": [
    "Pandora is based of the Music Genome Project a project that clains to be the most in depth taxonomy of music. Pandora has a team of musical analysts analyzing 10,000 songs every month, mapping them to a set of 450 distinct musical features. They use these features to power their recommendations."
   ]
  },
  {
   "cell_type": "markdown",
   "metadata": {
    "slideshow": {
     "slide_type": "slide"
    }
   },
   "source": [
    "## Content Filtering\n",
    "\n",
    "### Pros\n",
    "\n",
    "* Recomending to a new user is easy. We just get user's input and we can recommend right ahead.\n",
    "\n",
    "### Cons\n",
    "\n",
    "* Need to map each item into the feature space. That means that any time a new item gets added, someone has to manually categorize that item (unless using unsupervised clustering methods).\n",
    "\n",
    "* Recommendations are limited in scope. This means items can't be categorized in new features. Who can say 450 features are all the features necessary to map music?"
   ]
  },
  {
   "cell_type": "markdown",
   "metadata": {
    "slideshow": {
     "slide_type": "slide"
    }
   },
   "source": [
    "## Practical Example:   Content Filtering Movie recommendation Engine"
   ]
  },
  {
   "cell_type": "markdown",
   "metadata": {
    "slideshow": {
     "slide_type": "slide"
    }
   },
   "source": [
    "![title](../assets/ml-logo.png)\n",
    "<br>\n",
    "\n",
    "In this example we will build a recommendation system that recommends movies to users based on:\n",
    "\n",
    "1. Movie features - represented as movie genres\n",
    "2. Users' preferences about those categories\n",
    "\n",
    "\n",
    "<br>\n",
    "We will use the [Movielens](http://grouplens.org/datasets/movielens/) dataset. A free dataset containing millions of movie ratings by users."
   ]
  },
  {
   "cell_type": "code",
   "execution_count": 6,
   "metadata": {
    "collapsed": false,
    "slideshow": {
     "slide_type": "slide"
    }
   },
   "outputs": [
    {
     "data": {
      "text/html": [
       "<div>\n",
       "<table border=\"1\" class=\"dataframe\">\n",
       "  <thead>\n",
       "    <tr style=\"text-align: right;\">\n",
       "      <th></th>\n",
       "      <th>movie_id</th>\n",
       "      <th>movie_title</th>\n",
       "      <th>movie_genre</th>\n",
       "      <th>Action</th>\n",
       "      <th>Adventure</th>\n",
       "      <th>Animation</th>\n",
       "      <th>Children's</th>\n",
       "      <th>Comedy</th>\n",
       "      <th>Crime</th>\n",
       "      <th>Documentary</th>\n",
       "      <th>...</th>\n",
       "      <th>Fantasy</th>\n",
       "      <th>Film-Noir</th>\n",
       "      <th>Horror</th>\n",
       "      <th>Musical</th>\n",
       "      <th>Mystery</th>\n",
       "      <th>Romance</th>\n",
       "      <th>Sci-Fi</th>\n",
       "      <th>Thriller</th>\n",
       "      <th>War</th>\n",
       "      <th>Western</th>\n",
       "    </tr>\n",
       "  </thead>\n",
       "  <tbody>\n",
       "    <tr>\n",
       "      <th>0</th>\n",
       "      <td>1</td>\n",
       "      <td>Toy Story (1995)</td>\n",
       "      <td>Animation|Children's|Comedy</td>\n",
       "      <td>0</td>\n",
       "      <td>0</td>\n",
       "      <td>1</td>\n",
       "      <td>1</td>\n",
       "      <td>1</td>\n",
       "      <td>0</td>\n",
       "      <td>0</td>\n",
       "      <td>...</td>\n",
       "      <td>0</td>\n",
       "      <td>0</td>\n",
       "      <td>0</td>\n",
       "      <td>0</td>\n",
       "      <td>0</td>\n",
       "      <td>0</td>\n",
       "      <td>0</td>\n",
       "      <td>0</td>\n",
       "      <td>0</td>\n",
       "      <td>0</td>\n",
       "    </tr>\n",
       "    <tr>\n",
       "      <th>1</th>\n",
       "      <td>2</td>\n",
       "      <td>Jumanji (1995)</td>\n",
       "      <td>Adventure|Children's|Fantasy</td>\n",
       "      <td>0</td>\n",
       "      <td>1</td>\n",
       "      <td>0</td>\n",
       "      <td>1</td>\n",
       "      <td>0</td>\n",
       "      <td>0</td>\n",
       "      <td>0</td>\n",
       "      <td>...</td>\n",
       "      <td>1</td>\n",
       "      <td>0</td>\n",
       "      <td>0</td>\n",
       "      <td>0</td>\n",
       "      <td>0</td>\n",
       "      <td>0</td>\n",
       "      <td>0</td>\n",
       "      <td>0</td>\n",
       "      <td>0</td>\n",
       "      <td>0</td>\n",
       "    </tr>\n",
       "    <tr>\n",
       "      <th>2</th>\n",
       "      <td>3</td>\n",
       "      <td>Grumpier Old Men (1995)</td>\n",
       "      <td>Comedy|Romance</td>\n",
       "      <td>0</td>\n",
       "      <td>0</td>\n",
       "      <td>0</td>\n",
       "      <td>0</td>\n",
       "      <td>1</td>\n",
       "      <td>0</td>\n",
       "      <td>0</td>\n",
       "      <td>...</td>\n",
       "      <td>0</td>\n",
       "      <td>0</td>\n",
       "      <td>0</td>\n",
       "      <td>0</td>\n",
       "      <td>0</td>\n",
       "      <td>1</td>\n",
       "      <td>0</td>\n",
       "      <td>0</td>\n",
       "      <td>0</td>\n",
       "      <td>0</td>\n",
       "    </tr>\n",
       "    <tr>\n",
       "      <th>3</th>\n",
       "      <td>4</td>\n",
       "      <td>Waiting to Exhale (1995)</td>\n",
       "      <td>Comedy|Drama</td>\n",
       "      <td>0</td>\n",
       "      <td>0</td>\n",
       "      <td>0</td>\n",
       "      <td>0</td>\n",
       "      <td>1</td>\n",
       "      <td>0</td>\n",
       "      <td>0</td>\n",
       "      <td>...</td>\n",
       "      <td>0</td>\n",
       "      <td>0</td>\n",
       "      <td>0</td>\n",
       "      <td>0</td>\n",
       "      <td>0</td>\n",
       "      <td>0</td>\n",
       "      <td>0</td>\n",
       "      <td>0</td>\n",
       "      <td>0</td>\n",
       "      <td>0</td>\n",
       "    </tr>\n",
       "    <tr>\n",
       "      <th>4</th>\n",
       "      <td>5</td>\n",
       "      <td>Father of the Bride Part II (1995)</td>\n",
       "      <td>Comedy</td>\n",
       "      <td>0</td>\n",
       "      <td>0</td>\n",
       "      <td>0</td>\n",
       "      <td>0</td>\n",
       "      <td>1</td>\n",
       "      <td>0</td>\n",
       "      <td>0</td>\n",
       "      <td>...</td>\n",
       "      <td>0</td>\n",
       "      <td>0</td>\n",
       "      <td>0</td>\n",
       "      <td>0</td>\n",
       "      <td>0</td>\n",
       "      <td>0</td>\n",
       "      <td>0</td>\n",
       "      <td>0</td>\n",
       "      <td>0</td>\n",
       "      <td>0</td>\n",
       "    </tr>\n",
       "  </tbody>\n",
       "</table>\n",
       "<p>5 rows × 21 columns</p>\n",
       "</div>"
      ],
      "text/plain": [
       "   movie_id                         movie_title                   movie_genre  \\\n",
       "0         1                    Toy Story (1995)   Animation|Children's|Comedy   \n",
       "1         2                      Jumanji (1995)  Adventure|Children's|Fantasy   \n",
       "2         3             Grumpier Old Men (1995)                Comedy|Romance   \n",
       "3         4            Waiting to Exhale (1995)                  Comedy|Drama   \n",
       "4         5  Father of the Bride Part II (1995)                        Comedy   \n",
       "\n",
       "   Action  Adventure  Animation  Children's  Comedy  Crime  Documentary  \\\n",
       "0       0          0          1           1       1      0            0   \n",
       "1       0          1          0           1       0      0            0   \n",
       "2       0          0          0           0       1      0            0   \n",
       "3       0          0          0           0       1      0            0   \n",
       "4       0          0          0           0       1      0            0   \n",
       "\n",
       "    ...     Fantasy  Film-Noir  Horror  Musical  Mystery  Romance  Sci-Fi  \\\n",
       "0   ...           0          0       0        0        0        0       0   \n",
       "1   ...           1          0       0        0        0        0       0   \n",
       "2   ...           0          0       0        0        0        1       0   \n",
       "3   ...           0          0       0        0        0        0       0   \n",
       "4   ...           0          0       0        0        0        0       0   \n",
       "\n",
       "   Thriller  War  Western  \n",
       "0         0    0        0  \n",
       "1         0    0        0  \n",
       "2         0    0        0  \n",
       "3         0    0        0  \n",
       "4         0    0        0  \n",
       "\n",
       "[5 rows x 21 columns]"
      ]
     },
     "execution_count": 6,
     "metadata": {},
     "output_type": "execute_result"
    }
   ],
   "source": [
    "movies_df = pd.read_table('assets/movies.dat', header=None, sep='::', \n",
    "                          names=['movie_id', 'movie_title', 'movie_genre'], engine='python')\n",
    "movies_df = pd.concat([movies_df, movies_df.movie_genre.str.get_dummies(sep='|')], axis=1)  \n",
    "movie_categories = movies_df.columns[3:].tolist()\n",
    "movies_df.head()  "
   ]
  },
  {
   "cell_type": "code",
   "execution_count": 8,
   "metadata": {
    "collapsed": true,
    "slideshow": {
     "slide_type": "slide"
    }
   },
   "outputs": [],
   "source": [
    "user_movies = [\n",
    "    'Die Hard: With a Vengeance (1995)',\n",
    "    'Die Hard (1988)',\n",
    "    'Braveheart (1995)',\n",
    "    'Star Wars: Episode IV - A New Hope (1977)',\n",
    "    'Star Wars: Episode VI - Return of the Jedi (1983)',\n",
    "    'Indiana Jones and the Last Crusade (1989)',\n",
    "    'Toy Story (1995)',\n",
    "    'Aladdin (1992)',\n",
    "    'Lion King, The (1994)',\n",
    "]"
   ]
  },
  {
   "cell_type": "code",
   "execution_count": 9,
   "metadata": {
    "collapsed": false,
    "slideshow": {
     "slide_type": "slide"
    }
   },
   "outputs": [
    {
     "name": "stdout",
     "output_type": "stream",
     "text": [
      "          index         0\n",
      "0        Action  0.666667\n",
      "1     Adventure  0.333333\n",
      "2     Animation  0.333333\n",
      "3    Children's  0.333333\n",
      "4        Comedy  0.222222\n",
      "5         Crime  0.000000\n",
      "6   Documentary  0.000000\n",
      "7         Drama  0.111111\n",
      "8       Fantasy  0.111111\n",
      "9     Film-Noir  0.000000\n",
      "10       Horror  0.000000\n",
      "11      Musical  0.222222\n",
      "12      Mystery  0.000000\n",
      "13      Romance  0.111111\n",
      "14       Sci-Fi  0.222222\n",
      "15     Thriller  0.222222\n",
      "16          War  0.222222\n",
      "17      Western  0.000000\n"
     ]
    }
   ],
   "source": [
    "def get_user_preferences(user_movies):\n",
    "    user_features = movies_df[movies_df.movie_title.isin(user_movies)].ix[:,3:].T\n",
    "    user_features = user_features.mean(axis=1).reset_index()\n",
    "    print(user_features)\n",
    "    return user_features.ix[:,1].tolist()\n",
    "\n",
    "user_preferences_list = get_user_preferences(user_movies)"
   ]
  },
  {
   "cell_type": "code",
   "execution_count": 10,
   "metadata": {
    "collapsed": true,
    "slideshow": {
     "slide_type": "slide"
    }
   },
   "outputs": [],
   "source": [
    "def get_predicted_movie_score(movie_name, user_preferences): \n",
    "    movie_slice = movies_df[movies_df.movie_title==movie_name].iloc[0]\n",
    "    movie_features = movie_slice[movie_categories]\n",
    "    return np.dot(movie_features, user_preferences_list)"
   ]
  },
  {
   "cell_type": "code",
   "execution_count": 39,
   "metadata": {
    "collapsed": false,
    "slideshow": {
     "slide_type": "slide"
    }
   },
   "outputs": [
    {
     "data": {
      "text/plain": [
       "1.1111111111111112"
      ]
     },
     "execution_count": 39,
     "metadata": {},
     "output_type": "execute_result"
    }
   ],
   "source": [
    "#Action +Sci-Fi + Thriller\n",
    "get_predicted_movie_score('Terminator 2: Judgment Day (1991)', user_preferences_list)"
   ]
  },
  {
   "cell_type": "code",
   "execution_count": 26,
   "metadata": {
    "collapsed": false
   },
   "outputs": [
    {
     "data": {
      "text/plain": [
       "0.77777777777777768"
      ]
     },
     "execution_count": 26,
     "metadata": {},
     "output_type": "execute_result"
    }
   ],
   "source": [
    "#Action + Drama\n",
    "get_predicted_movie_score('Rocky (1976)', user_preferences_list)"
   ]
  },
  {
   "cell_type": "code",
   "execution_count": 33,
   "metadata": {
    "collapsed": false
   },
   "outputs": [
    {
     "data": {
      "text/plain": [
       "0.55555555555555558"
      ]
     },
     "execution_count": 33,
     "metadata": {},
     "output_type": "execute_result"
    }
   ],
   "source": [
    "#Animation + Musical\n",
    "get_predicted_movie_score('Prince of Egypt, The (1998)', user_preferences_list)"
   ]
  },
  {
   "cell_type": "code",
   "execution_count": 28,
   "metadata": {
    "collapsed": false
   },
   "outputs": [
    {
     "data": {
      "text/plain": [
       "0.22222222222222221"
      ]
     },
     "execution_count": 28,
     "metadata": {},
     "output_type": "execute_result"
    }
   ],
   "source": [
    "#Horror + Thriller\n",
    "get_predicted_movie_score('Scream (1996)', user_preferences_list)"
   ]
  },
  {
   "cell_type": "code",
   "execution_count": 197,
   "metadata": {
    "collapsed": false,
    "slideshow": {
     "slide_type": "slide"
    }
   },
   "outputs": [
    {
     "data": {
      "text/html": [
       "<div>\n",
       "<table border=\"1\" class=\"dataframe\">\n",
       "  <thead>\n",
       "    <tr style=\"text-align: right;\">\n",
       "      <th></th>\n",
       "      <th>movie_title</th>\n",
       "      <th>movie_genre</th>\n",
       "    </tr>\n",
       "  </thead>\n",
       "  <tbody>\n",
       "    <tr>\n",
       "      <th>1187</th>\n",
       "      <td>Transformers: The Movie, The (1986)</td>\n",
       "      <td>Action|Animation|Children's|Sci-Fi|Thriller|War</td>\n",
       "    </tr>\n",
       "    <tr>\n",
       "      <th>554</th>\n",
       "      <td>Pagemaster, The (1994)</td>\n",
       "      <td>Action|Adventure|Animation|Children's|Fantasy</td>\n",
       "    </tr>\n",
       "    <tr>\n",
       "      <th>2253</th>\n",
       "      <td>Soldier (1998)</td>\n",
       "      <td>Action|Adventure|Sci-Fi|Thriller|War</td>\n",
       "    </tr>\n",
       "    <tr>\n",
       "      <th>1192</th>\n",
       "      <td>Star Wars: Episode VI - Return of the Jedi (1983)</td>\n",
       "      <td>Action|Adventure|Romance|Sci-Fi|War</td>\n",
       "    </tr>\n",
       "    <tr>\n",
       "      <th>1178</th>\n",
       "      <td>Star Wars: Episode V - The Empire Strikes Back...</td>\n",
       "      <td>Action|Adventure|Drama|Sci-Fi|War</td>\n",
       "    </tr>\n",
       "    <tr>\n",
       "      <th>606</th>\n",
       "      <td>Heavy Metal (1981)</td>\n",
       "      <td>Action|Adventure|Animation|Horror|Sci-Fi</td>\n",
       "    </tr>\n",
       "    <tr>\n",
       "      <th>1972</th>\n",
       "      <td>Condorman (1981)</td>\n",
       "      <td>Action|Adventure|Children's|Comedy</td>\n",
       "    </tr>\n",
       "    <tr>\n",
       "      <th>2651</th>\n",
       "      <td>Inspector Gadget (1999)</td>\n",
       "      <td>Action|Adventure|Children's|Comedy</td>\n",
       "    </tr>\n",
       "    <tr>\n",
       "      <th>542</th>\n",
       "      <td>Super Mario Bros. (1993)</td>\n",
       "      <td>Action|Adventure|Children's|Sci-Fi</td>\n",
       "    </tr>\n",
       "    <tr>\n",
       "      <th>1197</th>\n",
       "      <td>Army of Darkness (1993)</td>\n",
       "      <td>Action|Adventure|Comedy|Horror|Sci-Fi</td>\n",
       "    </tr>\n",
       "  </tbody>\n",
       "</table>\n",
       "</div>"
      ],
      "text/plain": [
       "                                            movie_title  \\\n",
       "1187                Transformers: The Movie, The (1986)   \n",
       "554                              Pagemaster, The (1994)   \n",
       "2253                                     Soldier (1998)   \n",
       "1192  Star Wars: Episode VI - Return of the Jedi (1983)   \n",
       "1178  Star Wars: Episode V - The Empire Strikes Back...   \n",
       "606                                  Heavy Metal (1981)   \n",
       "1972                                   Condorman (1981)   \n",
       "2651                            Inspector Gadget (1999)   \n",
       "542                            Super Mario Bros. (1993)   \n",
       "1197                            Army of Darkness (1993)   \n",
       "\n",
       "                                          movie_genre  \n",
       "1187  Action|Animation|Children's|Sci-Fi|Thriller|War  \n",
       "554     Action|Adventure|Animation|Children's|Fantasy  \n",
       "2253             Action|Adventure|Sci-Fi|Thriller|War  \n",
       "1192              Action|Adventure|Romance|Sci-Fi|War  \n",
       "1178                Action|Adventure|Drama|Sci-Fi|War  \n",
       "606          Action|Adventure|Animation|Horror|Sci-Fi  \n",
       "1972               Action|Adventure|Children's|Comedy  \n",
       "2651               Action|Adventure|Children's|Comedy  \n",
       "542                Action|Adventure|Children's|Sci-Fi  \n",
       "1197            Action|Adventure|Comedy|Horror|Sci-Fi  "
      ]
     },
     "execution_count": 197,
     "metadata": {},
     "output_type": "execute_result"
    }
   ],
   "source": [
    "def get_movie_recommendations(user_preferences, n_recommendations):  \n",
    "    movies_df['score'] = movies_df.movie_title.apply(get_predicted_movie_score, args=([user_preferences]))\n",
    "    movies_df.sort_values(by=['score'], ascending=False, inplace=True)\n",
    "    del movies_df['score']\n",
    "    return movies_df[['movie_title','movie_genre']].head(n_recommendations)\n",
    "\n",
    "get_movie_recommendations(user_preferences_list, 10) "
   ]
  },
  {
   "cell_type": "markdown",
   "metadata": {
    "slideshow": {
     "slide_type": "slide"
    }
   },
   "source": [
    "#### We can even ask the user to explicitly state their opinion"
   ]
  },
  {
   "cell_type": "code",
   "execution_count": 199,
   "metadata": {
    "collapsed": false
   },
   "outputs": [],
   "source": [
    "from collections import OrderedDict\n",
    "\n",
    "\n",
    "user_preferences = OrderedDict(zip(movie_categories, []))\n",
    "\n",
    "user_preferences['Action'] = 5  \n",
    "user_preferences['Adventure'] = 5  \n",
    "user_preferences['Animation'] = 1  \n",
    "user_preferences[\"Children's\"] = 1  \n",
    "user_preferences[\"Comedy\"] = 3  \n",
    "user_preferences['Crime'] = 2  \n",
    "user_preferences['Documentary'] = 1  \n",
    "user_preferences['Drama'] = 1  \n",
    "user_preferences['Fantasy'] = 5  \n",
    "user_preferences['Film-Noir'] = 1  \n",
    "user_preferences['Horror'] = 2  \n",
    "user_preferences['Musical'] = 1  \n",
    "user_preferences['Mystery'] = 3  \n",
    "user_preferences['Romance'] = 1  \n",
    "user_preferences['Sci-Fi'] = 5  \n",
    "user_preferences['War'] = 3  \n",
    "user_preferences['Thriller'] = 2  \n",
    "user_preferences['Western'] =1  \n",
    "\n",
    "user_preferences_list = list(user_preferences.values())"
   ]
  },
  {
   "cell_type": "code",
   "execution_count": 200,
   "metadata": {
    "collapsed": false,
    "slideshow": {
     "slide_type": "slide"
    }
   },
   "outputs": [
    {
     "data": {
      "text/html": [
       "<div>\n",
       "<table border=\"1\" class=\"dataframe\">\n",
       "  <thead>\n",
       "    <tr style=\"text-align: right;\">\n",
       "      <th></th>\n",
       "      <th>movie_title</th>\n",
       "      <th>movie_genre</th>\n",
       "    </tr>\n",
       "  </thead>\n",
       "  <tbody>\n",
       "    <tr>\n",
       "      <th>257</th>\n",
       "      <td>Star Wars: Episode IV - A New Hope (1977)</td>\n",
       "      <td>Action|Adventure|Fantasy|Sci-Fi</td>\n",
       "    </tr>\n",
       "    <tr>\n",
       "      <th>1197</th>\n",
       "      <td>Army of Darkness (1993)</td>\n",
       "      <td>Action|Adventure|Comedy|Horror|Sci-Fi</td>\n",
       "    </tr>\n",
       "    <tr>\n",
       "      <th>2253</th>\n",
       "      <td>Soldier (1998)</td>\n",
       "      <td>Action|Adventure|Sci-Fi|Thriller|War</td>\n",
       "    </tr>\n",
       "    <tr>\n",
       "      <th>2559</th>\n",
       "      <td>Star Wars: Episode I - The Phantom Menace (1999)</td>\n",
       "      <td>Action|Adventure|Fantasy|Sci-Fi</td>\n",
       "    </tr>\n",
       "    <tr>\n",
       "      <th>2036</th>\n",
       "      <td>Tron (1982)</td>\n",
       "      <td>Action|Adventure|Fantasy|Sci-Fi</td>\n",
       "    </tr>\n",
       "    <tr>\n",
       "      <th>1985</th>\n",
       "      <td>Honey, I Shrunk the Kids (1989)</td>\n",
       "      <td>Adventure|Children's|Comedy|Fantasy|Sci-Fi</td>\n",
       "    </tr>\n",
       "    <tr>\n",
       "      <th>1505</th>\n",
       "      <td>Lost World: Jurassic Park, The (1997)</td>\n",
       "      <td>Action|Adventure|Sci-Fi|Thriller</td>\n",
       "    </tr>\n",
       "    <tr>\n",
       "      <th>1113</th>\n",
       "      <td>Escape from New York (1981)</td>\n",
       "      <td>Action|Adventure|Sci-Fi|Thriller</td>\n",
       "    </tr>\n",
       "    <tr>\n",
       "      <th>1192</th>\n",
       "      <td>Star Wars: Episode VI - Return of the Jedi (1983)</td>\n",
       "      <td>Action|Adventure|Romance|Sci-Fi|War</td>\n",
       "    </tr>\n",
       "    <tr>\n",
       "      <th>606</th>\n",
       "      <td>Heavy Metal (1981)</td>\n",
       "      <td>Action|Adventure|Animation|Horror|Sci-Fi</td>\n",
       "    </tr>\n",
       "  </tbody>\n",
       "</table>\n",
       "</div>"
      ],
      "text/plain": [
       "                                            movie_title  \\\n",
       "257           Star Wars: Episode IV - A New Hope (1977)   \n",
       "1197                            Army of Darkness (1993)   \n",
       "2253                                     Soldier (1998)   \n",
       "2559   Star Wars: Episode I - The Phantom Menace (1999)   \n",
       "2036                                        Tron (1982)   \n",
       "1985                    Honey, I Shrunk the Kids (1989)   \n",
       "1505              Lost World: Jurassic Park, The (1997)   \n",
       "1113                        Escape from New York (1981)   \n",
       "1192  Star Wars: Episode VI - Return of the Jedi (1983)   \n",
       "606                                  Heavy Metal (1981)   \n",
       "\n",
       "                                     movie_genre  \n",
       "257              Action|Adventure|Fantasy|Sci-Fi  \n",
       "1197       Action|Adventure|Comedy|Horror|Sci-Fi  \n",
       "2253        Action|Adventure|Sci-Fi|Thriller|War  \n",
       "2559             Action|Adventure|Fantasy|Sci-Fi  \n",
       "2036             Action|Adventure|Fantasy|Sci-Fi  \n",
       "1985  Adventure|Children's|Comedy|Fantasy|Sci-Fi  \n",
       "1505            Action|Adventure|Sci-Fi|Thriller  \n",
       "1113            Action|Adventure|Sci-Fi|Thriller  \n",
       "1192         Action|Adventure|Romance|Sci-Fi|War  \n",
       "606     Action|Adventure|Animation|Horror|Sci-Fi  "
      ]
     },
     "execution_count": 200,
     "metadata": {},
     "output_type": "execute_result"
    }
   ],
   "source": [
    "get_movie_recommendations(user_preferences_list, 10) "
   ]
  },
  {
   "cell_type": "markdown",
   "metadata": {
    "slideshow": {
     "slide_type": "slide"
    }
   },
   "source": [
    "# Collaborative Filtering \n",
    "\n",
    "In collaborative filtering, item features are derived from individual user behaviors or attitudes.\n",
    "\n",
    "The assumption is that users get value from recommendations based on other users with similar tastes.\n",
    "\n",
    "Unleases a potentially much bigger dataset to base our recommendations on."
   ]
  },
  {
   "cell_type": "markdown",
   "metadata": {
    "slideshow": {
     "slide_type": "slide"
    }
   },
   "source": [
    "### 2 Basic approaches:\n",
    "\n",
    "* Item based collaborative filtering (Item-Item). Measure similarity between items\n",
    "\n",
    "* User based collaborative filtering (Item-User). Measure similarity between users"
   ]
  },
  {
   "cell_type": "markdown",
   "metadata": {},
   "source": [
    "## Item-Item example\n",
    "\n",
    "![amazon](../assets/amazon3.png)\n",
    " \n",
    "![amazon](../assets/amazon4.png)\n"
   ]
  },
  {
   "cell_type": "markdown",
   "metadata": {
    "slideshow": {
     "slide_type": "notes"
    }
   },
   "source": [
    "On earlier versions of Amazon, recommendations where provided based on  user purchases. How [Amazon](http://www.cin.ufpe.br/~idal/rs/Amazon-Recommendations.pdf) described their algorithm is above. They used cosine similarity to compute the similarity between items."
   ]
  },
  {
   "cell_type": "markdown",
   "metadata": {},
   "source": [
    "### User-Item Collaborative Filtering Example\n",
    "\n",
    "![facebook](../assets/facebook.png)"
   ]
  },
  {
   "cell_type": "markdown",
   "metadata": {
    "slideshow": {
     "slide_type": "notes"
    }
   },
   "source": [
    "One obvious example of User item collaborative filtering is Facebook 'Friends you may know' even though the implementation is graph based, is using users that are similar to you in terms of the friends you share to recommend new friends to you based on your friends' friends "
   ]
  },
  {
   "cell_type": "markdown",
   "metadata": {},
   "source": [
    "### Collaborative filtering\n",
    "\n",
    "#### Pros\n",
    "\n",
    "* Capable of recommending new items without having to manually map them on the feature space. \n",
    "* Capable to find recommendations based on hidden features that an expert wouldn't be able to find (for example, combination of genres or actors).\n",
    "\n",
    "#### Cons\n",
    "\n",
    "* Cold Start. We need user interaction data to be able to start building our features\n",
    "* Every user interaction affects the features. "
   ]
  },
  {
   "cell_type": "markdown",
   "metadata": {
    "slideshow": {
     "slide_type": "slide"
    }
   },
   "source": [
    "## Item-Item Collaborative filtering Example: Subreddit recommendations.\n",
    "\n",
    "I am going to show you how to build a recommendation engine for Reddit!\n",
    "\n",
    "A live example of it is located at http://findasub.manugarri.com\n",
    "\n",
    "The goal can be written down as  \"given a user's set of subreddits, recommend new subredits that are similar\". \n",
    "\n",
    "In this system,  the features of each item (subreddit) will be the similarities of this subreddit with the others"
   ]
  },
  {
   "cell_type": "markdown",
   "metadata": {
    "slideshow": {
     "slide_type": "slide"
    }
   },
   "source": [
    "```\n",
    "manuel@manuel-P35V2 pydata_2016_talk $ sqlite3 assets/reddit.db \n",
    "SQLite version 3.9.2 2015-11-02 18:31:45\n",
    "Enter \".help\" for usage hints.\n",
    "sqlite> .schema\n",
    "CREATE TABLE redditors (redditor varchar(30), sub varchar(1000));\n",
    "CREATE TABLE similarity (sub1 varchar(30), sub2 varchar(1000), similarity float);\n",
    "sqlite> \n",
    "\n",
    "```"
   ]
  },
  {
   "cell_type": "code",
   "execution_count": 11,
   "metadata": {
    "collapsed": false
   },
   "outputs": [
    {
     "name": "stdout",
     "output_type": "stream",
     "text": [
      "   count(*)\n",
      "0   1756328\n"
     ]
    },
    {
     "data": {
      "text/html": [
       "<div>\n",
       "<table border=\"1\" class=\"dataframe\">\n",
       "  <thead>\n",
       "    <tr style=\"text-align: right;\">\n",
       "      <th></th>\n",
       "      <th>redditor</th>\n",
       "      <th>sub</th>\n",
       "    </tr>\n",
       "  </thead>\n",
       "  <tbody>\n",
       "    <tr>\n",
       "      <th>0</th>\n",
       "      <td>bananashirt178</td>\n",
       "      <td>memes</td>\n",
       "    </tr>\n",
       "    <tr>\n",
       "      <th>1</th>\n",
       "      <td>tweed08</td>\n",
       "      <td>memes</td>\n",
       "    </tr>\n",
       "    <tr>\n",
       "      <th>2</th>\n",
       "      <td>tweed08</td>\n",
       "      <td>Portal</td>\n",
       "    </tr>\n",
       "    <tr>\n",
       "      <th>3</th>\n",
       "      <td>KTM950Guy</td>\n",
       "      <td>beerporn</td>\n",
       "    </tr>\n",
       "    <tr>\n",
       "      <th>4</th>\n",
       "      <td>braidedbutthair</td>\n",
       "      <td>beerporn</td>\n",
       "    </tr>\n",
       "    <tr>\n",
       "      <th>5</th>\n",
       "      <td>ipathological</td>\n",
       "      <td>beerporn</td>\n",
       "    </tr>\n",
       "    <tr>\n",
       "      <th>6</th>\n",
       "      <td>justinthreee</td>\n",
       "      <td>memes</td>\n",
       "    </tr>\n",
       "    <tr>\n",
       "      <th>7</th>\n",
       "      <td>jake420</td>\n",
       "      <td>shittyadvice</td>\n",
       "    </tr>\n",
       "    <tr>\n",
       "      <th>8</th>\n",
       "      <td>jake420</td>\n",
       "      <td>memes</td>\n",
       "    </tr>\n",
       "    <tr>\n",
       "      <th>9</th>\n",
       "      <td>jake420</td>\n",
       "      <td>findareddit</td>\n",
       "    </tr>\n",
       "  </tbody>\n",
       "</table>\n",
       "</div>"
      ],
      "text/plain": [
       "          redditor           sub\n",
       "0   bananashirt178         memes\n",
       "1          tweed08         memes\n",
       "2          tweed08        Portal\n",
       "3        KTM950Guy      beerporn\n",
       "4  braidedbutthair      beerporn\n",
       "5    ipathological      beerporn\n",
       "6     justinthreee         memes\n",
       "7          jake420  shittyadvice\n",
       "8          jake420         memes\n",
       "9          jake420   findareddit"
      ]
     },
     "execution_count": 11,
     "metadata": {},
     "output_type": "execute_result"
    }
   ],
   "source": [
    "import sqlite3\n",
    "conn = sqlite3.connect('./assets/reddit.db')\n",
    "\n",
    "print(pd.io.sql.read_sql('select count(*) from redditors;',conn))\n",
    "\n",
    "pd.io.sql.read_sql('select redditor, sub from redditors limit 10;',conn)"
   ]
  },
  {
   "cell_type": "markdown",
   "metadata": {},
   "source": [
    "We have 1.8 million rows on the redditors table, each one is a comment of a redditor to a subreddit."
   ]
  },
  {
   "cell_type": "code",
   "execution_count": 40,
   "metadata": {
    "collapsed": false
   },
   "outputs": [],
   "source": [
    "#https://github.com/manugarri/Reddit-Recommendation-Engine/blob/master/seed/similarity.py\n",
    "\n",
    "\n",
    "#In production, be always mindful of Bobby Tables\n",
    "def compute_sim(sub1, sub2):\n",
    "    users_union = conn.execute('''SELECT COUNT(DISTINCT(redditor)) from redditors\n",
    "                                    WHERE sub =\"{0}\" OR sub =\"{1}\";'''.format(sub1, sub2)).fetchone()\n",
    "    users_intersect = conn.execute('''SELECT COUNT(DISTINCT(redditor)) from redditors\n",
    "                                   WHERE sub =\"{0}\" and redditor in (\n",
    "                                   SELECT DISTINCT(redditor) FROM redditors WHERE sub=\"{1}\")'''.format(sub1, sub2)).fetchone()\n",
    "    users_intersect = int(users_intersect[0])\n",
    "    users_union = int(users_union[0])\n",
    "    if users_intersect:\n",
    "        return users_intersect * 1.0 / users_union\n",
    "    else:\n",
    "        return 0.0\n",
    "\n"
   ]
  },
  {
   "cell_type": "markdown",
   "metadata": {
    "slideshow": {
     "slide_type": "notes"
    }
   },
   "source": [
    "So here we see how we are going to measure the similarity between subs.\n",
    "We will use the Jaccard similarity index that I explained before.\n",
    "\n",
    "So given a sample of reddit comments, we can estimate how similar two subreddits are by counting how many of the redditors that wrote messages on BOTH subreddits (intersection) divided by the number of redditors that wrote on either one of them,\n",
    "\n",
    "This step takes quite some time to run "
   ]
  },
  {
   "cell_type": "code",
   "execution_count": 66,
   "metadata": {
    "collapsed": false,
    "slideshow": {
     "slide_type": "slide"
    }
   },
   "outputs": [
    {
     "data": {
      "text/plain": [
       "0.10175922731976543"
      ]
     },
     "execution_count": 66,
     "metadata": {},
     "output_type": "execute_result"
    }
   ],
   "source": [
    "compute_sim('aviation','flying')"
   ]
  },
  {
   "cell_type": "code",
   "execution_count": 47,
   "metadata": {
    "collapsed": false
   },
   "outputs": [
    {
     "name": "stdout",
     "output_type": "stream",
     "text": [
      "30ROCK 3DS 0.00051440329218107\n",
      "30ROCK 3Dprinting 0.0006369426751592356\n",
      "30ROCK 3amjokes 0.0006451612903225806\n",
      "30ROCK 49ers 0.000643915003219575\n",
      "3DS 30ROCK 0.00051440329218107\n",
      "3DS 3Dprinting 0.0013764624913971094\n",
      "3DS 3amjokes 0.0010391409767925182\n",
      "3DS 49ers 0.0017313019390581717\n",
      "3Dprinting 30ROCK 0.0006369426751592356\n",
      "3Dprinting 3DS 0.0013764624913971094\n",
      "3Dprinting 3amjokes 0.001193792280143255\n",
      "3Dprinting 49ers 0.0007945967421533572\n",
      "3amjokes 30ROCK 0.0006451612903225806\n",
      "3amjokes 3DS 0.0010391409767925182\n",
      "3amjokes 3Dprinting 0.001193792280143255\n",
      "3amjokes 49ers 0.00040032025620496394\n",
      "49ers 30ROCK 0.000643915003219575\n",
      "49ers 3DS 0.0017313019390581717\n",
      "49ers 3Dprinting 0.0007945967421533572\n",
      "49ers 3amjokes 0.00040032025620496394\n"
     ]
    }
   ],
   "source": [
    "import json\n",
    "from itertools import product\n",
    "\n",
    "with open('assets/subs.json' ) as f:\n",
    "    subreddits = json.load(f)[:5]\n",
    "    \n",
    "for sim1, sim2 in product(subreddits, repeat=2):\n",
    "    if sim1!=sim2:\n",
    "        print(sim1,sim2,compute_sim(sim1, sim2))"
   ]
  },
  {
   "cell_type": "code",
   "execution_count": 48,
   "metadata": {
    "collapsed": false
   },
   "outputs": [
    {
     "data": {
      "text/html": [
       "<div>\n",
       "<table border=\"1\" class=\"dataframe\">\n",
       "  <thead>\n",
       "    <tr style=\"text-align: right;\">\n",
       "      <th></th>\n",
       "      <th>sub1</th>\n",
       "      <th>sub2</th>\n",
       "      <th>similarity</th>\n",
       "    </tr>\n",
       "  </thead>\n",
       "  <tbody>\n",
       "    <tr>\n",
       "      <th>0</th>\n",
       "      <td>iOSthemes</td>\n",
       "      <td>jailbreak</td>\n",
       "      <td>0.142021</td>\n",
       "    </tr>\n",
       "    <tr>\n",
       "      <th>1</th>\n",
       "      <td>asktransgender</td>\n",
       "      <td>transgender</td>\n",
       "      <td>0.112782</td>\n",
       "    </tr>\n",
       "    <tr>\n",
       "      <th>2</th>\n",
       "      <td>aviation</td>\n",
       "      <td>flying</td>\n",
       "      <td>0.101759</td>\n",
       "    </tr>\n",
       "    <tr>\n",
       "      <th>3</th>\n",
       "      <td>ukpolitics</td>\n",
       "      <td>unitedkingdom</td>\n",
       "      <td>0.101731</td>\n",
       "    </tr>\n",
       "    <tr>\n",
       "      <th>4</th>\n",
       "      <td>Liberal</td>\n",
       "      <td>progressive</td>\n",
       "      <td>0.099843</td>\n",
       "    </tr>\n",
       "    <tr>\n",
       "      <th>5</th>\n",
       "      <td>keto</td>\n",
       "      <td>ketorecipes</td>\n",
       "      <td>0.097407</td>\n",
       "    </tr>\n",
       "    <tr>\n",
       "      <th>6</th>\n",
       "      <td>Pokemongiveaway</td>\n",
       "      <td>pokemontrades</td>\n",
       "      <td>0.089431</td>\n",
       "    </tr>\n",
       "    <tr>\n",
       "      <th>7</th>\n",
       "      <td>ImaginaryCharacters</td>\n",
       "      <td>ImaginaryMonsters</td>\n",
       "      <td>0.088480</td>\n",
       "    </tr>\n",
       "    <tr>\n",
       "      <th>8</th>\n",
       "      <td>frugalmalefashion</td>\n",
       "      <td>malefashionadvice</td>\n",
       "      <td>0.084672</td>\n",
       "    </tr>\n",
       "    <tr>\n",
       "      <th>9</th>\n",
       "      <td>GiftofGames</td>\n",
       "      <td>RandomActsOfGaming</td>\n",
       "      <td>0.081259</td>\n",
       "    </tr>\n",
       "    <tr>\n",
       "      <th>10</th>\n",
       "      <td>Entrepreneur</td>\n",
       "      <td>startups</td>\n",
       "      <td>0.080465</td>\n",
       "    </tr>\n",
       "    <tr>\n",
       "      <th>11</th>\n",
       "      <td>CrusaderKings</td>\n",
       "      <td>paradoxplaza</td>\n",
       "      <td>0.080354</td>\n",
       "    </tr>\n",
       "    <tr>\n",
       "      <th>12</th>\n",
       "      <td>hiphopheads</td>\n",
       "      <td>HipHopImages</td>\n",
       "      <td>0.078541</td>\n",
       "    </tr>\n",
       "    <tr>\n",
       "      <th>13</th>\n",
       "      <td>medicalschool</td>\n",
       "      <td>medicine</td>\n",
       "      <td>0.076310</td>\n",
       "    </tr>\n",
       "    <tr>\n",
       "      <th>14</th>\n",
       "      <td>keto</td>\n",
       "      <td>xxketo</td>\n",
       "      <td>0.074339</td>\n",
       "    </tr>\n",
       "  </tbody>\n",
       "</table>\n",
       "</div>"
      ],
      "text/plain": [
       "                   sub1                sub2  similarity\n",
       "0             iOSthemes           jailbreak    0.142021\n",
       "1        asktransgender         transgender    0.112782\n",
       "2              aviation              flying    0.101759\n",
       "3            ukpolitics       unitedkingdom    0.101731\n",
       "4               Liberal         progressive    0.099843\n",
       "5                  keto         ketorecipes    0.097407\n",
       "6       Pokemongiveaway       pokemontrades    0.089431\n",
       "7   ImaginaryCharacters   ImaginaryMonsters    0.088480\n",
       "8     frugalmalefashion   malefashionadvice    0.084672\n",
       "9           GiftofGames  RandomActsOfGaming    0.081259\n",
       "10         Entrepreneur            startups    0.080465\n",
       "11        CrusaderKings        paradoxplaza    0.080354\n",
       "12          hiphopheads        HipHopImages    0.078541\n",
       "13        medicalschool            medicine    0.076310\n",
       "14                 keto              xxketo    0.074339"
      ]
     },
     "execution_count": 48,
     "metadata": {},
     "output_type": "execute_result"
    }
   ],
   "source": [
    "pd.io.sql.read_sql('select sub1, sub2, similarity from similarity order by similarity desc limit 15;',conn)"
   ]
  },
  {
   "cell_type": "code",
   "execution_count": 96,
   "metadata": {
    "collapsed": false,
    "slideshow": {
     "slide_type": "slide"
    }
   },
   "outputs": [],
   "source": [
    "def get_redditor_subs(redditor):\n",
    "    records = conn.execute('''select sub from redditors where redditor = \"{}\"'''.format(redditor)).fetchall()\n",
    "    return [r[0] for r in records]\n",
    "\n",
    "def get_sub_recommendations(redditor, n_recommendations=20):\n",
    "    redditor_subs = get_redditor_subs(redditor)\n",
    "    print(redditor_subs)\n",
    "\n",
    "    query_1 = \"select sub1 as sub, sum(similarity) as similarity from similarity where sub2 in ({})\\\n",
    "                group by sub;\".format(', '.join([\"'\" + s + \"'\" for s in redditor_subs]))\n",
    "    all_sub_scores_1 = pd.io.sql.read_sql(query_1, conn)\n",
    "\n",
    "    query_2 = \"select sub2 as sub, sum(similarity) as similarity from similarity where sub1 in ({})\\\n",
    "                group by sub;\".format(', '.join([\"'\" + s + \"'\" for s in redditor_subs]))\n",
    "    all_sub_scores_2 = pd.io.sql.read_sql(query_2, conn)\n",
    "\n",
    "    sub_scores = pd.concat([all_sub_scores_1, all_sub_scores_2])\n",
    "    sub_scores = sub_scores.groupby('sub').sum().reset_index()\n",
    "    sub_scores.sort_values(by='similarity', ascending=False, inplace=True)\n",
    "    \n",
    "    sub_scores = sub_scores[-sub_scores['sub'].isin(redditor_subs)]\n",
    "    return sub_scores.head(n_recommendations)"
   ]
  },
  {
   "cell_type": "code",
   "execution_count": 95,
   "metadata": {
    "collapsed": false,
    "slideshow": {
     "slide_type": "slide"
    }
   },
   "outputs": [
    {
     "name": "stdout",
     "output_type": "stream",
     "text": [
      "['IAmA', 'atheism', 'askscience', 'conspiracy', 'scifi', 'photography', 'changemyview', 'worldpolitics', 'Entrepreneur', 'compsci', 'dogs', 'webdev', 'google', 'Military', 'Paranormal', 'ragecomics', 'AskSocialScience', 'NeutralPolitics', 'privacy', 'PoliticalDiscussion', 'software', 'conspiratard', 'islam', 'printSF', 'NorthKoreaNews', 'Ask_Politics', 'moderatepolitics', 'commandline', 'hackers']\n"
     ]
    },
    {
     "data": {
      "text/html": [
       "<div>\n",
       "<table border=\"1\" class=\"dataframe\">\n",
       "  <thead>\n",
       "    <tr style=\"text-align: right;\">\n",
       "      <th></th>\n",
       "      <th>sub</th>\n",
       "      <th>similarity</th>\n",
       "    </tr>\n",
       "  </thead>\n",
       "  <tbody>\n",
       "    <tr>\n",
       "      <th>699</th>\n",
       "      <td>environment</td>\n",
       "      <td>0.185935</td>\n",
       "    </tr>\n",
       "    <tr>\n",
       "      <th>567</th>\n",
       "      <td>business</td>\n",
       "      <td>0.170226</td>\n",
       "    </tr>\n",
       "    <tr>\n",
       "      <th>1062</th>\n",
       "      <td>politics</td>\n",
       "      <td>0.165885</td>\n",
       "    </tr>\n",
       "    <tr>\n",
       "      <th>341</th>\n",
       "      <td>Libertarian</td>\n",
       "      <td>0.155474</td>\n",
       "    </tr>\n",
       "    <tr>\n",
       "      <th>1113</th>\n",
       "      <td>restorethefourth</td>\n",
       "      <td>0.150343</td>\n",
       "    </tr>\n",
       "    <tr>\n",
       "      <th>1075</th>\n",
       "      <td>progressive</td>\n",
       "      <td>0.147675</td>\n",
       "    </tr>\n",
       "    <tr>\n",
       "      <th>206</th>\n",
       "      <td>Foodforthought</td>\n",
       "      <td>0.146236</td>\n",
       "    </tr>\n",
       "    <tr>\n",
       "      <th>340</th>\n",
       "      <td>Liberal</td>\n",
       "      <td>0.134288</td>\n",
       "    </tr>\n",
       "    <tr>\n",
       "      <th>1344</th>\n",
       "      <td>worldnews</td>\n",
       "      <td>0.133243</td>\n",
       "    </tr>\n",
       "    <tr>\n",
       "      <th>1184</th>\n",
       "      <td>space</td>\n",
       "      <td>0.132084</td>\n",
       "    </tr>\n",
       "    <tr>\n",
       "      <th>1199</th>\n",
       "      <td>startups</td>\n",
       "      <td>0.131689</td>\n",
       "    </tr>\n",
       "    <tr>\n",
       "      <th>1013</th>\n",
       "      <td>offbeat</td>\n",
       "      <td>0.131457</td>\n",
       "    </tr>\n",
       "    <tr>\n",
       "      <th>29</th>\n",
       "      <td>AskHistorians</td>\n",
       "      <td>0.131250</td>\n",
       "    </tr>\n",
       "    <tr>\n",
       "      <th>1020</th>\n",
       "      <td>opensource</td>\n",
       "      <td>0.128743</td>\n",
       "    </tr>\n",
       "    <tr>\n",
       "      <th>21</th>\n",
       "      <td>AnythingGoesNews</td>\n",
       "      <td>0.128490</td>\n",
       "    </tr>\n",
       "    <tr>\n",
       "      <th>1234</th>\n",
       "      <td>technology</td>\n",
       "      <td>0.128183</td>\n",
       "    </tr>\n",
       "    <tr>\n",
       "      <th>778</th>\n",
       "      <td>geek</td>\n",
       "      <td>0.127947</td>\n",
       "    </tr>\n",
       "    <tr>\n",
       "      <th>1010</th>\n",
       "      <td>occupywallstreet</td>\n",
       "      <td>0.127887</td>\n",
       "    </tr>\n",
       "    <tr>\n",
       "      <th>1176</th>\n",
       "      <td>socialism</td>\n",
       "      <td>0.126388</td>\n",
       "    </tr>\n",
       "    <tr>\n",
       "      <th>1003</th>\n",
       "      <td>nottheonion</td>\n",
       "      <td>0.118827</td>\n",
       "    </tr>\n",
       "  </tbody>\n",
       "</table>\n",
       "</div>"
      ],
      "text/plain": [
       "                   sub  similarity\n",
       "699        environment    0.185935\n",
       "567           business    0.170226\n",
       "1062          politics    0.165885\n",
       "341        Libertarian    0.155474\n",
       "1113  restorethefourth    0.150343\n",
       "1075       progressive    0.147675\n",
       "206     Foodforthought    0.146236\n",
       "340            Liberal    0.134288\n",
       "1344         worldnews    0.133243\n",
       "1184             space    0.132084\n",
       "1199          startups    0.131689\n",
       "1013           offbeat    0.131457\n",
       "29       AskHistorians    0.131250\n",
       "1020        opensource    0.128743\n",
       "21    AnythingGoesNews    0.128490\n",
       "1234        technology    0.128183\n",
       "778               geek    0.127947\n",
       "1010  occupywallstreet    0.127887\n",
       "1176         socialism    0.126388\n",
       "1003       nottheonion    0.118827"
      ]
     },
     "execution_count": 95,
     "metadata": {},
     "output_type": "execute_result"
    }
   ],
   "source": [
    "get_sub_recommendations('NoeticIntelligence')"
   ]
  },
  {
   "cell_type": "markdown",
   "metadata": {
    "slideshow": {
     "slide_type": "slide"
    }
   },
   "source": [
    "## Example: Item-Item Based Collaborative filtering in the MovieLens dataset"
   ]
  },
  {
   "cell_type": "code",
   "execution_count": 8,
   "metadata": {
    "collapsed": false
   },
   "outputs": [
    {
     "name": "stderr",
     "output_type": "stream",
     "text": [
      "/home/manuel/anaconda3/envs/pydata/lib/python3.5/site-packages/ipykernel/__main__.py:1: ParserWarning: Falling back to the 'python' engine because the 'c' engine does not support regex separators; you can avoid this warning by specifying engine='python'.\n",
      "  if __name__ == '__main__':\n"
     ]
    },
    {
     "data": {
      "text/html": [
       "<div>\n",
       "<table border=\"1\" class=\"dataframe\">\n",
       "  <thead>\n",
       "    <tr style=\"text-align: right;\">\n",
       "      <th></th>\n",
       "      <th>user_id</th>\n",
       "      <th>movie_title</th>\n",
       "      <th>movie_id</th>\n",
       "      <th>rating</th>\n",
       "    </tr>\n",
       "  </thead>\n",
       "  <tbody>\n",
       "    <tr>\n",
       "      <th>0</th>\n",
       "      <td>1</td>\n",
       "      <td>One Flew Over the Cuckoo's Nest (1975)</td>\n",
       "      <td>1193</td>\n",
       "      <td>5</td>\n",
       "    </tr>\n",
       "    <tr>\n",
       "      <th>1</th>\n",
       "      <td>2</td>\n",
       "      <td>One Flew Over the Cuckoo's Nest (1975)</td>\n",
       "      <td>1193</td>\n",
       "      <td>5</td>\n",
       "    </tr>\n",
       "    <tr>\n",
       "      <th>2</th>\n",
       "      <td>12</td>\n",
       "      <td>One Flew Over the Cuckoo's Nest (1975)</td>\n",
       "      <td>1193</td>\n",
       "      <td>4</td>\n",
       "    </tr>\n",
       "    <tr>\n",
       "      <th>3</th>\n",
       "      <td>15</td>\n",
       "      <td>One Flew Over the Cuckoo's Nest (1975)</td>\n",
       "      <td>1193</td>\n",
       "      <td>4</td>\n",
       "    </tr>\n",
       "    <tr>\n",
       "      <th>4</th>\n",
       "      <td>17</td>\n",
       "      <td>One Flew Over the Cuckoo's Nest (1975)</td>\n",
       "      <td>1193</td>\n",
       "      <td>5</td>\n",
       "    </tr>\n",
       "  </tbody>\n",
       "</table>\n",
       "</div>"
      ],
      "text/plain": [
       "   user_id                             movie_title  movie_id  rating\n",
       "0        1  One Flew Over the Cuckoo's Nest (1975)      1193       5\n",
       "1        2  One Flew Over the Cuckoo's Nest (1975)      1193       5\n",
       "2       12  One Flew Over the Cuckoo's Nest (1975)      1193       4\n",
       "3       15  One Flew Over the Cuckoo's Nest (1975)      1193       4\n",
       "4       17  One Flew Over the Cuckoo's Nest (1975)      1193       5"
      ]
     },
     "execution_count": 8,
     "metadata": {},
     "output_type": "execute_result"
    }
   ],
   "source": [
    "ratings_df = pd.read_table('assets/ratings.dat', header=None, sep='::', names=['user_id', 'movie_id', 'rating', 'timestamp'])\n",
    "\n",
    "#we dont care about the time the rating was given\n",
    "del ratings_df['timestamp']\n",
    "\n",
    "#replace movie_id with movie_title for legibility\n",
    "ratings_df = pd.merge(ratings_df, movies_df, on='movie_id')[['user_id', 'movie_title', 'movie_id','rating']]\n",
    "\n",
    "ratings_df.head()  "
   ]
  },
  {
   "cell_type": "code",
   "execution_count": 82,
   "metadata": {
    "collapsed": false,
    "slideshow": {
     "slide_type": "slide"
    }
   },
   "outputs": [
    {
     "data": {
      "text/html": [
       "<div>\n",
       "<table border=\"1\" class=\"dataframe\">\n",
       "  <thead>\n",
       "    <tr style=\"text-align: right;\">\n",
       "      <th>movie_title</th>\n",
       "      <th>$1,000,000 Duck (1971)</th>\n",
       "      <th>'Night Mother (1986)</th>\n",
       "      <th>'Til There Was You (1997)</th>\n",
       "      <th>'burbs, The (1989)</th>\n",
       "      <th>...And Justice for All (1979)</th>\n",
       "      <th>1-900 (1994)</th>\n",
       "      <th>10 Things I Hate About You (1999)</th>\n",
       "      <th>101 Dalmatians (1961)</th>\n",
       "      <th>101 Dalmatians (1996)</th>\n",
       "      <th>12 Angry Men (1957)</th>\n",
       "      <th>...</th>\n",
       "      <th>Young Poisoner's Handbook, The (1995)</th>\n",
       "      <th>Young Sherlock Holmes (1985)</th>\n",
       "      <th>Young and Innocent (1937)</th>\n",
       "      <th>Your Friends and Neighbors (1998)</th>\n",
       "      <th>Zachariah (1971)</th>\n",
       "      <th>Zed &amp; Two Noughts, A (1985)</th>\n",
       "      <th>Zero Effect (1998)</th>\n",
       "      <th>Zero Kelvin (Kj�rlighetens kj�tere) (1995)</th>\n",
       "      <th>Zeus and Roxanne (1997)</th>\n",
       "      <th>eXistenZ (1999)</th>\n",
       "    </tr>\n",
       "    <tr>\n",
       "      <th>user_id</th>\n",
       "      <th></th>\n",
       "      <th></th>\n",
       "      <th></th>\n",
       "      <th></th>\n",
       "      <th></th>\n",
       "      <th></th>\n",
       "      <th></th>\n",
       "      <th></th>\n",
       "      <th></th>\n",
       "      <th></th>\n",
       "      <th></th>\n",
       "      <th></th>\n",
       "      <th></th>\n",
       "      <th></th>\n",
       "      <th></th>\n",
       "      <th></th>\n",
       "      <th></th>\n",
       "      <th></th>\n",
       "      <th></th>\n",
       "      <th></th>\n",
       "      <th></th>\n",
       "    </tr>\n",
       "  </thead>\n",
       "  <tbody>\n",
       "    <tr>\n",
       "      <th>1</th>\n",
       "      <td>-0.215674</td>\n",
       "      <td>0.128728</td>\n",
       "      <td>-0.550393</td>\n",
       "      <td>-0.331810</td>\n",
       "      <td>0.470867</td>\n",
       "      <td>-0.742701</td>\n",
       "      <td>0.180156</td>\n",
       "      <td>0.353760</td>\n",
       "      <td>-0.195997</td>\n",
       "      <td>1.052754</td>\n",
       "      <td>...</td>\n",
       "      <td>0.390211</td>\n",
       "      <td>0.147801</td>\n",
       "      <td>0.057299</td>\n",
       "      <td>0.133446</td>\n",
       "      <td>0.257299</td>\n",
       "      <td>0.171092</td>\n",
       "      <td>0.508130</td>\n",
       "      <td>0.257299</td>\n",
       "      <td>-0.720962</td>\n",
       "      <td>0.013397</td>\n",
       "    </tr>\n",
       "    <tr>\n",
       "      <th>2</th>\n",
       "      <td>-0.210064</td>\n",
       "      <td>0.134337</td>\n",
       "      <td>-0.544784</td>\n",
       "      <td>-0.326200</td>\n",
       "      <td>0.476476</td>\n",
       "      <td>-0.737091</td>\n",
       "      <td>0.185766</td>\n",
       "      <td>0.359369</td>\n",
       "      <td>-0.190388</td>\n",
       "      <td>1.058363</td>\n",
       "      <td>...</td>\n",
       "      <td>0.395820</td>\n",
       "      <td>0.153410</td>\n",
       "      <td>0.062909</td>\n",
       "      <td>0.139055</td>\n",
       "      <td>0.262909</td>\n",
       "      <td>0.176702</td>\n",
       "      <td>0.513739</td>\n",
       "      <td>0.262909</td>\n",
       "      <td>-0.715352</td>\n",
       "      <td>0.019006</td>\n",
       "    </tr>\n",
       "    <tr>\n",
       "      <th>3</th>\n",
       "      <td>-0.213476</td>\n",
       "      <td>0.130926</td>\n",
       "      <td>-0.548195</td>\n",
       "      <td>-0.329612</td>\n",
       "      <td>0.473065</td>\n",
       "      <td>-0.740503</td>\n",
       "      <td>0.182354</td>\n",
       "      <td>0.355957</td>\n",
       "      <td>-0.193799</td>\n",
       "      <td>1.054952</td>\n",
       "      <td>...</td>\n",
       "      <td>0.392409</td>\n",
       "      <td>0.149999</td>\n",
       "      <td>0.059497</td>\n",
       "      <td>0.135644</td>\n",
       "      <td>0.259497</td>\n",
       "      <td>0.173290</td>\n",
       "      <td>0.510328</td>\n",
       "      <td>0.259497</td>\n",
       "      <td>-0.718764</td>\n",
       "      <td>0.015595</td>\n",
       "    </tr>\n",
       "    <tr>\n",
       "      <th>4</th>\n",
       "      <td>-0.212675</td>\n",
       "      <td>0.131726</td>\n",
       "      <td>-0.547394</td>\n",
       "      <td>-0.328811</td>\n",
       "      <td>0.473866</td>\n",
       "      <td>-0.739702</td>\n",
       "      <td>0.183155</td>\n",
       "      <td>0.356758</td>\n",
       "      <td>-0.192999</td>\n",
       "      <td>1.055752</td>\n",
       "      <td>...</td>\n",
       "      <td>0.393209</td>\n",
       "      <td>0.150799</td>\n",
       "      <td>0.060298</td>\n",
       "      <td>0.136445</td>\n",
       "      <td>0.260298</td>\n",
       "      <td>0.174091</td>\n",
       "      <td>0.511128</td>\n",
       "      <td>0.260298</td>\n",
       "      <td>-0.717963</td>\n",
       "      <td>0.016395</td>\n",
       "    </tr>\n",
       "    <tr>\n",
       "      <th>5</th>\n",
       "      <td>-0.182296</td>\n",
       "      <td>0.162105</td>\n",
       "      <td>-0.517016</td>\n",
       "      <td>-0.298432</td>\n",
       "      <td>0.504244</td>\n",
       "      <td>-0.709323</td>\n",
       "      <td>0.213534</td>\n",
       "      <td>0.387137</td>\n",
       "      <td>-0.162620</td>\n",
       "      <td>1.086131</td>\n",
       "      <td>...</td>\n",
       "      <td>0.423588</td>\n",
       "      <td>0.181178</td>\n",
       "      <td>0.090677</td>\n",
       "      <td>0.166823</td>\n",
       "      <td>0.290677</td>\n",
       "      <td>0.204470</td>\n",
       "      <td>0.541507</td>\n",
       "      <td>0.290677</td>\n",
       "      <td>-0.687584</td>\n",
       "      <td>0.046774</td>\n",
       "    </tr>\n",
       "  </tbody>\n",
       "</table>\n",
       "<p>5 rows × 3706 columns</p>\n",
       "</div>"
      ],
      "text/plain": [
       "movie_title  $1,000,000 Duck (1971)  'Night Mother (1986)  \\\n",
       "user_id                                                     \n",
       "1                         -0.215674              0.128728   \n",
       "2                         -0.210064              0.134337   \n",
       "3                         -0.213476              0.130926   \n",
       "4                         -0.212675              0.131726   \n",
       "5                         -0.182296              0.162105   \n",
       "\n",
       "movie_title  'Til There Was You (1997)  'burbs, The (1989)  \\\n",
       "user_id                                                      \n",
       "1                            -0.550393           -0.331810   \n",
       "2                            -0.544784           -0.326200   \n",
       "3                            -0.548195           -0.329612   \n",
       "4                            -0.547394           -0.328811   \n",
       "5                            -0.517016           -0.298432   \n",
       "\n",
       "movie_title  ...And Justice for All (1979)  1-900 (1994)  \\\n",
       "user_id                                                    \n",
       "1                                 0.470867     -0.742701   \n",
       "2                                 0.476476     -0.737091   \n",
       "3                                 0.473065     -0.740503   \n",
       "4                                 0.473866     -0.739702   \n",
       "5                                 0.504244     -0.709323   \n",
       "\n",
       "movie_title  10 Things I Hate About You (1999)  101 Dalmatians (1961)  \\\n",
       "user_id                                                                 \n",
       "1                                     0.180156               0.353760   \n",
       "2                                     0.185766               0.359369   \n",
       "3                                     0.182354               0.355957   \n",
       "4                                     0.183155               0.356758   \n",
       "5                                     0.213534               0.387137   \n",
       "\n",
       "movie_title  101 Dalmatians (1996)  12 Angry Men (1957)       ...         \\\n",
       "user_id                                                       ...          \n",
       "1                        -0.195997             1.052754       ...          \n",
       "2                        -0.190388             1.058363       ...          \n",
       "3                        -0.193799             1.054952       ...          \n",
       "4                        -0.192999             1.055752       ...          \n",
       "5                        -0.162620             1.086131       ...          \n",
       "\n",
       "movie_title  Young Poisoner's Handbook, The (1995)  \\\n",
       "user_id                                              \n",
       "1                                         0.390211   \n",
       "2                                         0.395820   \n",
       "3                                         0.392409   \n",
       "4                                         0.393209   \n",
       "5                                         0.423588   \n",
       "\n",
       "movie_title  Young Sherlock Holmes (1985)  Young and Innocent (1937)  \\\n",
       "user_id                                                                \n",
       "1                                0.147801                   0.057299   \n",
       "2                                0.153410                   0.062909   \n",
       "3                                0.149999                   0.059497   \n",
       "4                                0.150799                   0.060298   \n",
       "5                                0.181178                   0.090677   \n",
       "\n",
       "movie_title  Your Friends and Neighbors (1998)  Zachariah (1971)  \\\n",
       "user_id                                                            \n",
       "1                                     0.133446          0.257299   \n",
       "2                                     0.139055          0.262909   \n",
       "3                                     0.135644          0.259497   \n",
       "4                                     0.136445          0.260298   \n",
       "5                                     0.166823          0.290677   \n",
       "\n",
       "movie_title  Zed & Two Noughts, A (1985)  Zero Effect (1998)  \\\n",
       "user_id                                                        \n",
       "1                               0.171092            0.508130   \n",
       "2                               0.176702            0.513739   \n",
       "3                               0.173290            0.510328   \n",
       "4                               0.174091            0.511128   \n",
       "5                               0.204470            0.541507   \n",
       "\n",
       "movie_title  Zero Kelvin (Kj�rlighetens kj�tere) (1995)  \\\n",
       "user_id                                                   \n",
       "1                                              0.257299   \n",
       "2                                              0.262909   \n",
       "3                                              0.259497   \n",
       "4                                              0.260298   \n",
       "5                                              0.290677   \n",
       "\n",
       "movie_title  Zeus and Roxanne (1997)  eXistenZ (1999)  \n",
       "user_id                                                \n",
       "1                          -0.720962         0.013397  \n",
       "2                          -0.715352         0.019006  \n",
       "3                          -0.718764         0.015595  \n",
       "4                          -0.717963         0.016395  \n",
       "5                          -0.687584         0.046774  \n",
       "\n",
       "[5 rows x 3706 columns]"
      ]
     },
     "execution_count": 82,
     "metadata": {},
     "output_type": "execute_result"
    }
   ],
   "source": [
    "ratings_mtx_df = ratings_df.pivot_table(values='rating', index='user_id', columns='movie_title')  \n",
    "ratings_mtx_df = ratings_mtx_df.apply(lambda x: x.fillna(x.mean()),axis=0)\n",
    "ratings_mtx_df = ratings_mtx_df.apply(lambda x: x - x.mean(),axis=1)\n",
    "\n",
    "movie_index = ratings_mtx_df.columns\n",
    "\n",
    "ratings_mtx_df.head()  "
   ]
  },
  {
   "cell_type": "markdown",
   "metadata": {
    "slideshow": {
     "slide_type": "notes"
    }
   },
   "source": [
    "Since the user rating matrix is very sparse, we normalize it by\n",
    "\n",
    "1. Filling non rated user-movie interactions with the users' average rating,\n",
    "2. Deduct the movie bias by removing the movie's global average rating from each rating"
   ]
  },
  {
   "cell_type": "markdown",
   "metadata": {
    "slideshow": {
     "slide_type": "slide"
    }
   },
   "source": [
    "Now that we have a normalized user-ratings matrix, we can compute the relationships between movies by calculating the correlation between movies and ratings.\n",
    "\n",
    "We will use **Pearson product-moment correlation coefficient (PPMC)** to compute the similarities between movies based off the relation of the ratings users give to them.\n",
    "\n",
    "![pmcc](../assets/pmcc.png)"
   ]
  },
  {
   "cell_type": "code",
   "execution_count": 83,
   "metadata": {
    "collapsed": false,
    "slideshow": {
     "slide_type": "-"
    }
   },
   "outputs": [
    {
     "data": {
      "text/plain": [
       "(3706, 3706)"
      ]
     },
     "execution_count": 83,
     "metadata": {},
     "output_type": "execute_result"
    }
   ],
   "source": [
    "corr_matrix = np.corrcoef(ratings_mtx_df.T)  \n",
    "corr_matrix.shape"
   ]
  },
  {
   "cell_type": "code",
   "execution_count": 115,
   "metadata": {
    "collapsed": true,
    "slideshow": {
     "slide_type": "slide"
    }
   },
   "outputs": [],
   "source": [
    "def get_movie_correlations(movie_title):  \n",
    "    '''Returns correlation vector for a movie'''\n",
    "    movie_idx = list(movie_index).index(movie_title)\n",
    "    return corr_matrix[movie_idx]\n",
    "\n",
    "def get_similar_movies(movie_title, threshold=0.2):\n",
    "    movie_correlations_array =  get_movie_correlations(movie_title)\n",
    "    return movie_index[movie_correlations_array>threshold]"
   ]
  },
  {
   "cell_type": "code",
   "execution_count": 116,
   "metadata": {
    "collapsed": false
   },
   "outputs": [
    {
     "data": {
      "text/plain": [
       "Index(['Raiders of the Lost Ark (1981)',\n",
       "       'Star Wars: Episode IV - A New Hope (1977)',\n",
       "       'Star Wars: Episode V - The Empire Strikes Back (1980)',\n",
       "       'Star Wars: Episode VI - Return of the Jedi (1983)'],\n",
       "      dtype='object', name='movie_title')"
      ]
     },
     "execution_count": 116,
     "metadata": {},
     "output_type": "execute_result"
    }
   ],
   "source": [
    "get_similar_movies('Star Wars: Episode IV - A New Hope (1977)')"
   ]
  },
  {
   "cell_type": "code",
   "execution_count": 117,
   "metadata": {
    "collapsed": false
   },
   "outputs": [
    {
     "data": {
      "text/plain": [
       "Index(['Die Hard (1988)', 'Die Hard 2 (1990)',\n",
       "       'Die Hard: With a Vengeance (1995)', 'Lethal Weapon (1987)',\n",
       "       'Lethal Weapon 2 (1989)', 'Terminator 2: Judgment Day (1991)',\n",
       "       'Terminator, The (1984)'],\n",
       "      dtype='object', name='movie_title')"
      ]
     },
     "execution_count": 117,
     "metadata": {},
     "output_type": "execute_result"
    }
   ],
   "source": [
    "get_similar_movies('Die Hard (1988)')"
   ]
  },
  {
   "cell_type": "code",
   "execution_count": 119,
   "metadata": {
    "collapsed": true,
    "slideshow": {
     "slide_type": "slide"
    }
   },
   "outputs": [],
   "source": [
    "def get_movie_recommendations(user_movies):  \n",
    "    '''given a set of movies, it returns all the movies sorted by their correlation with the user'''\n",
    "    movie_similarities = np.zeros(corr_matrix.shape[0])\n",
    "    for movie_id in user_movies:\n",
    "        movie_similarities = movie_similarities + get_movie_correlations(movie_id)\n",
    "    similarities_df = pd.DataFrame({\n",
    "        'movie_title': movie_index,\n",
    "        'sum_similarity': movie_similarities\n",
    "        })\n",
    "    similarities_df = similarities_df[~(similarities_df.movie_title.isin(user_movies))]\n",
    "    similarities_df = similarities_df.sort_values(by=['sum_similarity'], ascending=False)\n",
    "    return similarities_df"
   ]
  },
  {
   "cell_type": "code",
   "execution_count": 125,
   "metadata": {
    "collapsed": false
   },
   "outputs": [
    {
     "data": {
      "text/plain": [
       "[\"Bug's Life, A (1998)\",\n",
       " 'Bambi (1942)',\n",
       " 'Antz (1998)',\n",
       " 'Aladdin (1992)',\n",
       " 'Toy Story (1995)',\n",
       " 'Star Wars: Episode VI - Return of the Jedi (1983)',\n",
       " 'Who Framed Roger Rabbit? (1988)',\n",
       " 'South Park: Bigger, Longer and Uncut (1999)',\n",
       " 'Akira (1988)',\n",
       " 'Pinocchio (1940)',\n",
       " 'Mad Max Beyond Thunderdome (1985)',\n",
       " 'Titan A.E. (2000)',\n",
       " \"Devil's Advocate, The (1997)\",\n",
       " 'Prince of Egypt, The (1998)',\n",
       " 'Wild Wild West (1999)',\n",
       " 'Iron Giant, The (1999)',\n",
       " 'Brady Bunch Movie, The (1995)',\n",
       " 'Princess Mononoke, The (Mononoke Hime) (1997)',\n",
       " 'Little Nemo: Adventures in Slumberland (1992)',\n",
       " 'Messenger: The Story of Joan of Arc, The (1999)',\n",
       " 'Stop! Or My Mom Will Shoot (1992)',\n",
       " 'House Party 2 (1991)']"
      ]
     },
     "execution_count": 125,
     "metadata": {},
     "output_type": "execute_result"
    }
   ],
   "source": [
    "sample_user = 21\n",
    "sample_user_movies = ratings_df[ratings_df.user_id==sample_user].movie_title.tolist() \n",
    "sample_user_movies"
   ]
  },
  {
   "cell_type": "code",
   "execution_count": 126,
   "metadata": {
    "collapsed": false,
    "slideshow": {
     "slide_type": "slide"
    }
   },
   "outputs": [
    {
     "data": {
      "text/plain": [
       "3055    Snow White and the Seven Dwarfs (1937)\n",
       "1865                 Lady and the Tramp (1955)\n",
       "679                          Cinderella (1950)\n",
       "1002                              Dumbo (1941)\n",
       "1939                     Lion King, The (1994)\n",
       "324                Beauty and the Beast (1991)\n",
       "7                        101 Dalmatians (1961)\n",
       "2770           Rescuers Down Under, The (1990)\n",
       "1948                Little Mermaid, The (1989)\n",
       "3412                        Toy Story 2 (1999)\n",
       "2808                         Robin Hood (1973)\n",
       "3026                    Sleeping Beauty (1959)\n",
       "1739          James and the Giant Peach (1996)\n",
       "3275                             Tarzan (1999)\n",
       "97                  Alice in Wonderland (1951)\n",
       "1781                   Jungle Book, The (1967)\n",
       "1611       Hunchback of Notre Dame, The (1996)\n",
       "2771                      Rescuers, The (1977)\n",
       "2432                   Oliver & Company (1988)\n",
       "1111                           Fantasia (1940)\n",
       "Name: movie_title, dtype: object"
      ]
     },
     "execution_count": 126,
     "metadata": {},
     "output_type": "execute_result"
    }
   ],
   "source": [
    "recommendations = get_movie_recommendations(sample_user_movies)\n",
    "\n",
    "#We get the top 20 recommended movies\n",
    "recommendations.movie_title.head(20)  "
   ]
  },
  {
   "cell_type": "markdown",
   "metadata": {
    "slideshow": {
     "slide_type": "slide"
    }
   },
   "source": [
    "## Collaborative filtering via Dimensionality Reduction by SVD"
   ]
  },
  {
   "cell_type": "markdown",
   "metadata": {},
   "source": [
    "SVD (Singular Value Decomposition) is a matrix factorization method\n",
    "\n",
    "it works by\n",
    "\n",
    "$$A = U\\Sigma V^T$$\n",
    "\n",
    "With  being a diagonal matrix containing the eigenvalues of the original matrix A"
   ]
  },
  {
   "cell_type": "code",
   "execution_count": 18,
   "metadata": {
    "collapsed": false
   },
   "outputs": [
    {
     "name": "stderr",
     "output_type": "stream",
     "text": [
      "/home/manuel/anaconda3/envs/pydata/lib/python3.5/site-packages/ipykernel/__main__.py:1: ParserWarning: Falling back to the 'python' engine because the 'c' engine does not support regex separators; you can avoid this warning by specifying engine='python'.\n",
      "  if __name__ == '__main__':\n"
     ]
    },
    {
     "data": {
      "text/html": [
       "<div>\n",
       "<table border=\"1\" class=\"dataframe\">\n",
       "  <thead>\n",
       "    <tr style=\"text-align: right;\">\n",
       "      <th></th>\n",
       "      <th>movie_id</th>\n",
       "      <th>movie_title</th>\n",
       "      <th>movie_genre</th>\n",
       "    </tr>\n",
       "  </thead>\n",
       "  <tbody>\n",
       "    <tr>\n",
       "      <th>0</th>\n",
       "      <td>1</td>\n",
       "      <td>Toy Story (1995)</td>\n",
       "      <td>Animation|Children's|Comedy</td>\n",
       "    </tr>\n",
       "    <tr>\n",
       "      <th>1</th>\n",
       "      <td>2</td>\n",
       "      <td>Jumanji (1995)</td>\n",
       "      <td>Adventure|Children's|Fantasy</td>\n",
       "    </tr>\n",
       "    <tr>\n",
       "      <th>2</th>\n",
       "      <td>3</td>\n",
       "      <td>Grumpier Old Men (1995)</td>\n",
       "      <td>Comedy|Romance</td>\n",
       "    </tr>\n",
       "    <tr>\n",
       "      <th>3</th>\n",
       "      <td>4</td>\n",
       "      <td>Waiting to Exhale (1995)</td>\n",
       "      <td>Comedy|Drama</td>\n",
       "    </tr>\n",
       "    <tr>\n",
       "      <th>4</th>\n",
       "      <td>5</td>\n",
       "      <td>Father of the Bride Part II (1995)</td>\n",
       "      <td>Comedy</td>\n",
       "    </tr>\n",
       "  </tbody>\n",
       "</table>\n",
       "</div>"
      ],
      "text/plain": [
       "   movie_id                         movie_title                   movie_genre\n",
       "0         1                    Toy Story (1995)   Animation|Children's|Comedy\n",
       "1         2                      Jumanji (1995)  Adventure|Children's|Fantasy\n",
       "2         3             Grumpier Old Men (1995)                Comedy|Romance\n",
       "3         4            Waiting to Exhale (1995)                  Comedy|Drama\n",
       "4         5  Father of the Bride Part II (1995)                        Comedy"
      ]
     },
     "execution_count": 18,
     "metadata": {},
     "output_type": "execute_result"
    }
   ],
   "source": [
    "movies_df = pd.read_table('assets/movies.dat', header=None, sep='::', names=['movie_id', 'movie_title', 'movie_genre'])\n",
    "movies_df.head()  "
   ]
  },
  {
   "cell_type": "code",
   "execution_count": 19,
   "metadata": {
    "collapsed": false
   },
   "outputs": [
    {
     "name": "stderr",
     "output_type": "stream",
     "text": [
      "/home/manuel/anaconda3/envs/pydata/lib/python3.5/site-packages/ipykernel/__main__.py:1: ParserWarning: Falling back to the 'python' engine because the 'c' engine does not support regex separators; you can avoid this warning by specifying engine='python'.\n",
      "  if __name__ == '__main__':\n"
     ]
    },
    {
     "data": {
      "text/html": [
       "<div>\n",
       "<table border=\"1\" class=\"dataframe\">\n",
       "  <thead>\n",
       "    <tr style=\"text-align: right;\">\n",
       "      <th></th>\n",
       "      <th>user_id</th>\n",
       "      <th>movie_id</th>\n",
       "      <th>rating</th>\n",
       "    </tr>\n",
       "  </thead>\n",
       "  <tbody>\n",
       "    <tr>\n",
       "      <th>0</th>\n",
       "      <td>1</td>\n",
       "      <td>1193</td>\n",
       "      <td>5</td>\n",
       "    </tr>\n",
       "    <tr>\n",
       "      <th>1</th>\n",
       "      <td>1</td>\n",
       "      <td>661</td>\n",
       "      <td>3</td>\n",
       "    </tr>\n",
       "    <tr>\n",
       "      <th>2</th>\n",
       "      <td>1</td>\n",
       "      <td>914</td>\n",
       "      <td>3</td>\n",
       "    </tr>\n",
       "    <tr>\n",
       "      <th>3</th>\n",
       "      <td>1</td>\n",
       "      <td>3408</td>\n",
       "      <td>4</td>\n",
       "    </tr>\n",
       "    <tr>\n",
       "      <th>4</th>\n",
       "      <td>1</td>\n",
       "      <td>2355</td>\n",
       "      <td>5</td>\n",
       "    </tr>\n",
       "  </tbody>\n",
       "</table>\n",
       "</div>"
      ],
      "text/plain": [
       "   user_id  movie_id  rating\n",
       "0        1      1193       5\n",
       "1        1       661       3\n",
       "2        1       914       3\n",
       "3        1      3408       4\n",
       "4        1      2355       5"
      ]
     },
     "execution_count": 19,
     "metadata": {},
     "output_type": "execute_result"
    }
   ],
   "source": [
    "ratings_df = pd.read_table('assets/ratings.dat', header=None, sep='::', names=['user_id', 'movie_id', 'rating', 'timestamp'])\n",
    "del ratings_df['timestamp']\n",
    "ratings_df.head()  "
   ]
  },
  {
   "cell_type": "code",
   "execution_count": 20,
   "metadata": {
    "collapsed": false
   },
   "outputs": [],
   "source": [
    "users = ratings_df.user_id.unique()\n",
    "movies = ratings_df.movie_id.unique()\n",
    " \n",
    "number_of_rows = len(users)\n",
    "number_of_columns = len(movies)\n",
    "\n",
    "movie_indices, user_indices = {}, {}\n",
    " \n",
    "for i in range(len(movies)):\n",
    "    movie_indices[movies[i]] = i\n",
    "    \n",
    "for i in range(len(users)):\n",
    "    user_indices[users[i]] = i"
   ]
  },
  {
   "cell_type": "code",
   "execution_count": 21,
   "metadata": {
    "collapsed": true
   },
   "outputs": [],
   "source": [
    "ratings_mtx_df = ratings_df.pivot_table(values='rating', index='user_id', columns='movie_id')\n",
    "movie_index = ratings_mtx_df.columns"
   ]
  },
  {
   "cell_type": "code",
   "execution_count": 22,
   "metadata": {
    "collapsed": false
   },
   "outputs": [
    {
     "data": {
      "text/html": [
       "<div>\n",
       "<table border=\"1\" class=\"dataframe\">\n",
       "  <thead>\n",
       "    <tr style=\"text-align: right;\">\n",
       "      <th>movie_id</th>\n",
       "      <th>1</th>\n",
       "      <th>2</th>\n",
       "      <th>3</th>\n",
       "      <th>4</th>\n",
       "      <th>5</th>\n",
       "      <th>6</th>\n",
       "      <th>7</th>\n",
       "      <th>8</th>\n",
       "      <th>9</th>\n",
       "      <th>10</th>\n",
       "      <th>...</th>\n",
       "      <th>3943</th>\n",
       "      <th>3944</th>\n",
       "      <th>3945</th>\n",
       "      <th>3946</th>\n",
       "      <th>3947</th>\n",
       "      <th>3948</th>\n",
       "      <th>3949</th>\n",
       "      <th>3950</th>\n",
       "      <th>3951</th>\n",
       "      <th>3952</th>\n",
       "    </tr>\n",
       "    <tr>\n",
       "      <th>user_id</th>\n",
       "      <th></th>\n",
       "      <th></th>\n",
       "      <th></th>\n",
       "      <th></th>\n",
       "      <th></th>\n",
       "      <th></th>\n",
       "      <th></th>\n",
       "      <th></th>\n",
       "      <th></th>\n",
       "      <th></th>\n",
       "      <th></th>\n",
       "      <th></th>\n",
       "      <th></th>\n",
       "      <th></th>\n",
       "      <th></th>\n",
       "      <th></th>\n",
       "      <th></th>\n",
       "      <th></th>\n",
       "      <th></th>\n",
       "      <th></th>\n",
       "      <th></th>\n",
       "    </tr>\n",
       "  </thead>\n",
       "  <tbody>\n",
       "    <tr>\n",
       "      <th>1</th>\n",
       "      <td>5.0</td>\n",
       "      <td>NaN</td>\n",
       "      <td>NaN</td>\n",
       "      <td>NaN</td>\n",
       "      <td>NaN</td>\n",
       "      <td>NaN</td>\n",
       "      <td>NaN</td>\n",
       "      <td>NaN</td>\n",
       "      <td>NaN</td>\n",
       "      <td>NaN</td>\n",
       "      <td>...</td>\n",
       "      <td>NaN</td>\n",
       "      <td>NaN</td>\n",
       "      <td>NaN</td>\n",
       "      <td>NaN</td>\n",
       "      <td>NaN</td>\n",
       "      <td>NaN</td>\n",
       "      <td>NaN</td>\n",
       "      <td>NaN</td>\n",
       "      <td>NaN</td>\n",
       "      <td>NaN</td>\n",
       "    </tr>\n",
       "    <tr>\n",
       "      <th>2</th>\n",
       "      <td>NaN</td>\n",
       "      <td>NaN</td>\n",
       "      <td>NaN</td>\n",
       "      <td>NaN</td>\n",
       "      <td>NaN</td>\n",
       "      <td>NaN</td>\n",
       "      <td>NaN</td>\n",
       "      <td>NaN</td>\n",
       "      <td>NaN</td>\n",
       "      <td>NaN</td>\n",
       "      <td>...</td>\n",
       "      <td>NaN</td>\n",
       "      <td>NaN</td>\n",
       "      <td>NaN</td>\n",
       "      <td>NaN</td>\n",
       "      <td>NaN</td>\n",
       "      <td>NaN</td>\n",
       "      <td>NaN</td>\n",
       "      <td>NaN</td>\n",
       "      <td>NaN</td>\n",
       "      <td>NaN</td>\n",
       "    </tr>\n",
       "    <tr>\n",
       "      <th>3</th>\n",
       "      <td>NaN</td>\n",
       "      <td>NaN</td>\n",
       "      <td>NaN</td>\n",
       "      <td>NaN</td>\n",
       "      <td>NaN</td>\n",
       "      <td>NaN</td>\n",
       "      <td>NaN</td>\n",
       "      <td>NaN</td>\n",
       "      <td>NaN</td>\n",
       "      <td>NaN</td>\n",
       "      <td>...</td>\n",
       "      <td>NaN</td>\n",
       "      <td>NaN</td>\n",
       "      <td>NaN</td>\n",
       "      <td>NaN</td>\n",
       "      <td>NaN</td>\n",
       "      <td>NaN</td>\n",
       "      <td>NaN</td>\n",
       "      <td>NaN</td>\n",
       "      <td>NaN</td>\n",
       "      <td>NaN</td>\n",
       "    </tr>\n",
       "    <tr>\n",
       "      <th>4</th>\n",
       "      <td>NaN</td>\n",
       "      <td>NaN</td>\n",
       "      <td>NaN</td>\n",
       "      <td>NaN</td>\n",
       "      <td>NaN</td>\n",
       "      <td>NaN</td>\n",
       "      <td>NaN</td>\n",
       "      <td>NaN</td>\n",
       "      <td>NaN</td>\n",
       "      <td>NaN</td>\n",
       "      <td>...</td>\n",
       "      <td>NaN</td>\n",
       "      <td>NaN</td>\n",
       "      <td>NaN</td>\n",
       "      <td>NaN</td>\n",
       "      <td>NaN</td>\n",
       "      <td>NaN</td>\n",
       "      <td>NaN</td>\n",
       "      <td>NaN</td>\n",
       "      <td>NaN</td>\n",
       "      <td>NaN</td>\n",
       "    </tr>\n",
       "    <tr>\n",
       "      <th>5</th>\n",
       "      <td>NaN</td>\n",
       "      <td>NaN</td>\n",
       "      <td>NaN</td>\n",
       "      <td>NaN</td>\n",
       "      <td>NaN</td>\n",
       "      <td>2.0</td>\n",
       "      <td>NaN</td>\n",
       "      <td>NaN</td>\n",
       "      <td>NaN</td>\n",
       "      <td>NaN</td>\n",
       "      <td>...</td>\n",
       "      <td>NaN</td>\n",
       "      <td>NaN</td>\n",
       "      <td>NaN</td>\n",
       "      <td>NaN</td>\n",
       "      <td>NaN</td>\n",
       "      <td>NaN</td>\n",
       "      <td>NaN</td>\n",
       "      <td>NaN</td>\n",
       "      <td>NaN</td>\n",
       "      <td>NaN</td>\n",
       "    </tr>\n",
       "  </tbody>\n",
       "</table>\n",
       "<p>5 rows × 3706 columns</p>\n",
       "</div>"
      ],
      "text/plain": [
       "movie_id  1     2     3     4     5     6     7     8     9     10    ...   \\\n",
       "user_id                                                               ...    \n",
       "1          5.0   NaN   NaN   NaN   NaN   NaN   NaN   NaN   NaN   NaN  ...    \n",
       "2          NaN   NaN   NaN   NaN   NaN   NaN   NaN   NaN   NaN   NaN  ...    \n",
       "3          NaN   NaN   NaN   NaN   NaN   NaN   NaN   NaN   NaN   NaN  ...    \n",
       "4          NaN   NaN   NaN   NaN   NaN   NaN   NaN   NaN   NaN   NaN  ...    \n",
       "5          NaN   NaN   NaN   NaN   NaN   2.0   NaN   NaN   NaN   NaN  ...    \n",
       "\n",
       "movie_id  3943  3944  3945  3946  3947  3948  3949  3950  3951  3952  \n",
       "user_id                                                               \n",
       "1          NaN   NaN   NaN   NaN   NaN   NaN   NaN   NaN   NaN   NaN  \n",
       "2          NaN   NaN   NaN   NaN   NaN   NaN   NaN   NaN   NaN   NaN  \n",
       "3          NaN   NaN   NaN   NaN   NaN   NaN   NaN   NaN   NaN   NaN  \n",
       "4          NaN   NaN   NaN   NaN   NaN   NaN   NaN   NaN   NaN   NaN  \n",
       "5          NaN   NaN   NaN   NaN   NaN   NaN   NaN   NaN   NaN   NaN  \n",
       "\n",
       "[5 rows x 3706 columns]"
      ]
     },
     "execution_count": 22,
     "metadata": {},
     "output_type": "execute_result"
    }
   ],
   "source": [
    "ratings_mtx_df.head()"
   ]
  },
  {
   "cell_type": "markdown",
   "metadata": {},
   "source": [
    "http://web.eecs.umich.edu/~cscott/past_courses/eecs545f11/projects/AsendorfMcgaffinPressSchwartz.pdf\n",
    "\n",
    "Mixture Mean Algorithm for data imputation\n",
    "\n",
    "0.452µuser(j) + 0.548µmovie(i) "
   ]
  },
  {
   "cell_type": "code",
   "execution_count": 23,
   "metadata": {
    "collapsed": false
   },
   "outputs": [],
   "source": [
    "user_avgs = ratings_mtx_df.mean(axis=1)\n",
    "movie_avgs = ratings_mtx_df.mean(axis=0)\n",
    "\n",
    "user_alpha = 0.452\n",
    "movie_alpha = 0.548\n",
    "\n",
    "user_fill_values = user_alpha * user_avgs\n",
    "movie_fill_values = movie_alpha * movie_avgs\n",
    "\n",
    "\n",
    "for movie_id in ratings_mtx_df.columns:\n",
    "    ratings_mtx_df.loc[:,movie_id][ratings_mtx_df.loc[:,movie_id].isnull()] = movie_fill_values[movie_id] + user_fill_values"
   ]
  },
  {
   "cell_type": "code",
   "execution_count": 24,
   "metadata": {
    "collapsed": false
   },
   "outputs": [
    {
     "data": {
      "text/html": [
       "<div>\n",
       "<table border=\"1\" class=\"dataframe\">\n",
       "  <thead>\n",
       "    <tr style=\"text-align: right;\">\n",
       "      <th>movie_id</th>\n",
       "      <th>1</th>\n",
       "      <th>2</th>\n",
       "      <th>3</th>\n",
       "      <th>4</th>\n",
       "      <th>5</th>\n",
       "      <th>6</th>\n",
       "      <th>7</th>\n",
       "      <th>8</th>\n",
       "      <th>9</th>\n",
       "      <th>10</th>\n",
       "      <th>...</th>\n",
       "      <th>3943</th>\n",
       "      <th>3944</th>\n",
       "      <th>3945</th>\n",
       "      <th>3946</th>\n",
       "      <th>3947</th>\n",
       "      <th>3948</th>\n",
       "      <th>3949</th>\n",
       "      <th>3950</th>\n",
       "      <th>3951</th>\n",
       "      <th>3952</th>\n",
       "    </tr>\n",
       "    <tr>\n",
       "      <th>user_id</th>\n",
       "      <th></th>\n",
       "      <th></th>\n",
       "      <th></th>\n",
       "      <th></th>\n",
       "      <th></th>\n",
       "      <th></th>\n",
       "      <th></th>\n",
       "      <th></th>\n",
       "      <th></th>\n",
       "      <th></th>\n",
       "      <th></th>\n",
       "      <th></th>\n",
       "      <th></th>\n",
       "      <th></th>\n",
       "      <th></th>\n",
       "      <th></th>\n",
       "      <th></th>\n",
       "      <th></th>\n",
       "      <th></th>\n",
       "      <th></th>\n",
       "      <th></th>\n",
       "    </tr>\n",
       "  </thead>\n",
       "  <tbody>\n",
       "    <tr>\n",
       "      <th>1</th>\n",
       "      <td>5.000000</td>\n",
       "      <td>3.647508</td>\n",
       "      <td>3.546455</td>\n",
       "      <td>3.389001</td>\n",
       "      <td>3.540986</td>\n",
       "      <td>4.018823</td>\n",
       "      <td>3.762226</td>\n",
       "      <td>3.545342</td>\n",
       "      <td>3.349244</td>\n",
       "      <td>3.833499</td>\n",
       "      <td>...</td>\n",
       "      <td>3.565825</td>\n",
       "      <td>3.050172</td>\n",
       "      <td>2.708911</td>\n",
       "      <td>3.131763</td>\n",
       "      <td>3.796338</td>\n",
       "      <td>3.885664</td>\n",
       "      <td>4.148375</td>\n",
       "      <td>3.902616</td>\n",
       "      <td>4.030483</td>\n",
       "      <td>3.965231</td>\n",
       "    </tr>\n",
       "    <tr>\n",
       "      <th>2</th>\n",
       "      <td>3.950828</td>\n",
       "      <td>3.432582</td>\n",
       "      <td>3.331528</td>\n",
       "      <td>3.174074</td>\n",
       "      <td>3.326059</td>\n",
       "      <td>3.803897</td>\n",
       "      <td>3.547300</td>\n",
       "      <td>3.330415</td>\n",
       "      <td>3.134317</td>\n",
       "      <td>3.618573</td>\n",
       "      <td>...</td>\n",
       "      <td>3.350898</td>\n",
       "      <td>2.835245</td>\n",
       "      <td>2.493984</td>\n",
       "      <td>2.916837</td>\n",
       "      <td>3.581411</td>\n",
       "      <td>3.670737</td>\n",
       "      <td>3.933449</td>\n",
       "      <td>3.687690</td>\n",
       "      <td>3.815557</td>\n",
       "      <td>3.750305</td>\n",
       "    </tr>\n",
       "    <tr>\n",
       "      <th>3</th>\n",
       "      <td>4.036158</td>\n",
       "      <td>3.517912</td>\n",
       "      <td>3.416858</td>\n",
       "      <td>3.259404</td>\n",
       "      <td>3.411389</td>\n",
       "      <td>3.889227</td>\n",
       "      <td>3.632630</td>\n",
       "      <td>3.415745</td>\n",
       "      <td>3.219647</td>\n",
       "      <td>3.703902</td>\n",
       "      <td>...</td>\n",
       "      <td>3.436228</td>\n",
       "      <td>2.920575</td>\n",
       "      <td>2.579314</td>\n",
       "      <td>3.002166</td>\n",
       "      <td>3.666741</td>\n",
       "      <td>3.756067</td>\n",
       "      <td>4.018778</td>\n",
       "      <td>3.773020</td>\n",
       "      <td>3.900886</td>\n",
       "      <td>3.835635</td>\n",
       "    </tr>\n",
       "    <tr>\n",
       "      <th>4</th>\n",
       "      <td>4.166567</td>\n",
       "      <td>3.648321</td>\n",
       "      <td>3.547267</td>\n",
       "      <td>3.389813</td>\n",
       "      <td>3.541798</td>\n",
       "      <td>4.019636</td>\n",
       "      <td>3.763038</td>\n",
       "      <td>3.546154</td>\n",
       "      <td>3.350056</td>\n",
       "      <td>3.834311</td>\n",
       "      <td>...</td>\n",
       "      <td>3.566637</td>\n",
       "      <td>3.050984</td>\n",
       "      <td>2.709723</td>\n",
       "      <td>3.132575</td>\n",
       "      <td>3.797150</td>\n",
       "      <td>3.886476</td>\n",
       "      <td>4.149187</td>\n",
       "      <td>3.903429</td>\n",
       "      <td>4.031295</td>\n",
       "      <td>3.966044</td>\n",
       "    </tr>\n",
       "    <tr>\n",
       "      <th>5</th>\n",
       "      <td>3.694674</td>\n",
       "      <td>3.176427</td>\n",
       "      <td>3.075374</td>\n",
       "      <td>2.917920</td>\n",
       "      <td>3.069905</td>\n",
       "      <td>2.000000</td>\n",
       "      <td>3.291145</td>\n",
       "      <td>3.074261</td>\n",
       "      <td>2.878163</td>\n",
       "      <td>3.362418</td>\n",
       "      <td>...</td>\n",
       "      <td>3.094744</td>\n",
       "      <td>2.579091</td>\n",
       "      <td>2.237830</td>\n",
       "      <td>2.660682</td>\n",
       "      <td>3.325257</td>\n",
       "      <td>3.414583</td>\n",
       "      <td>3.677294</td>\n",
       "      <td>3.431535</td>\n",
       "      <td>3.559402</td>\n",
       "      <td>3.494150</td>\n",
       "    </tr>\n",
       "  </tbody>\n",
       "</table>\n",
       "<p>5 rows × 3706 columns</p>\n",
       "</div>"
      ],
      "text/plain": [
       "movie_id      1         2         3         4         5         6     \\\n",
       "user_id                                                                \n",
       "1         5.000000  3.647508  3.546455  3.389001  3.540986  4.018823   \n",
       "2         3.950828  3.432582  3.331528  3.174074  3.326059  3.803897   \n",
       "3         4.036158  3.517912  3.416858  3.259404  3.411389  3.889227   \n",
       "4         4.166567  3.648321  3.547267  3.389813  3.541798  4.019636   \n",
       "5         3.694674  3.176427  3.075374  2.917920  3.069905  2.000000   \n",
       "\n",
       "movie_id      7         8         9         10      ...         3943  \\\n",
       "user_id                                             ...                \n",
       "1         3.762226  3.545342  3.349244  3.833499    ...     3.565825   \n",
       "2         3.547300  3.330415  3.134317  3.618573    ...     3.350898   \n",
       "3         3.632630  3.415745  3.219647  3.703902    ...     3.436228   \n",
       "4         3.763038  3.546154  3.350056  3.834311    ...     3.566637   \n",
       "5         3.291145  3.074261  2.878163  3.362418    ...     3.094744   \n",
       "\n",
       "movie_id      3944      3945      3946      3947      3948      3949  \\\n",
       "user_id                                                                \n",
       "1         3.050172  2.708911  3.131763  3.796338  3.885664  4.148375   \n",
       "2         2.835245  2.493984  2.916837  3.581411  3.670737  3.933449   \n",
       "3         2.920575  2.579314  3.002166  3.666741  3.756067  4.018778   \n",
       "4         3.050984  2.709723  3.132575  3.797150  3.886476  4.149187   \n",
       "5         2.579091  2.237830  2.660682  3.325257  3.414583  3.677294   \n",
       "\n",
       "movie_id      3950      3951      3952  \n",
       "user_id                                 \n",
       "1         3.902616  4.030483  3.965231  \n",
       "2         3.687690  3.815557  3.750305  \n",
       "3         3.773020  3.900886  3.835635  \n",
       "4         3.903429  4.031295  3.966044  \n",
       "5         3.431535  3.559402  3.494150  \n",
       "\n",
       "[5 rows x 3706 columns]"
      ]
     },
     "execution_count": 24,
     "metadata": {},
     "output_type": "execute_result"
    }
   ],
   "source": [
    "ratings_mtx_df.head()"
   ]
  },
  {
   "cell_type": "code",
   "execution_count": 25,
   "metadata": {
    "collapsed": false
   },
   "outputs": [
    {
     "data": {
      "text/plain": [
       "(6040, 3706)"
      ]
     },
     "execution_count": 25,
     "metadata": {},
     "output_type": "execute_result"
    }
   ],
   "source": [
    "ratings_mtx = ratings_mtx_df.as_matrix()\n",
    "ratings_mtx.shape"
   ]
  },
  {
   "cell_type": "code",
   "execution_count": 11,
   "metadata": {
    "collapsed": false,
    "slideshow": {
     "slide_type": "skip"
    }
   },
   "outputs": [
    {
     "data": {
      "text/plain": [
       "107263"
      ]
     },
     "execution_count": 11,
     "metadata": {},
     "output_type": "execute_result"
    }
   ],
   "source": [
    "import gc\n",
    "\n",
    "del ratings_mtx_df\n",
    "del ratings_df\n",
    "gc.collect()"
   ]
  },
  {
   "cell_type": "code",
   "execution_count": 12,
   "metadata": {
    "collapsed": true
   },
   "outputs": [],
   "source": [
    "from scipy.sparse.linalg import svds"
   ]
  },
  {
   "cell_type": "code",
   "execution_count": 26,
   "metadata": {
    "collapsed": true
   },
   "outputs": [],
   "source": [
    "u,s, vt = svds(ratings_mtx, k = 2000)\n",
    "s_diag_matrix = np.zeros((s.shape[0], s.shape[0]))\n",
    "\n",
    "for i in range(s.shape[0]):\n",
    "    s_diag_matrix[i,i] = s[i]\n",
    "    \n",
    "X_lr = np.dot(np.dot(u, s_diag_matrix), vt)"
   ]
  },
  {
   "cell_type": "code",
   "execution_count": null,
   "metadata": {
    "collapsed": false
   },
   "outputs": [],
   "source": [
    "import pickle\n",
    "with open('assets/movielens_1M_svd_u.pickle', 'wb') as handle:\n",
    "    pickle.dump(u, handle)\n",
    "with open('assets/movielens_1M_svd_s.pickle', 'wb') as handle:\n",
    "    pickle.dump(s, handle)\n",
    "with open('assets/movielens_1M_svd_vt.pickle', 'wb') as handle:\n",
    "    pickle.dump(vt, handle)\n",
    "    \n",
    "del vt\n",
    "del s\n",
    "del u\n",
    "gc.collect()\n",
    "ratings_df = pd.read_table('assets/ratings.dat', header=None, sep='::', names=['user_id', 'movie_id', 'rating', 'timestamp'])\n",
    "del ratings_df['timestamp']"
   ]
  },
  {
   "cell_type": "code",
   "execution_count": 28,
   "metadata": {
    "collapsed": true
   },
   "outputs": [],
   "source": [
    "sample_user = 1"
   ]
  },
  {
   "cell_type": "code",
   "execution_count": 31,
   "metadata": {
    "collapsed": false
   },
   "outputs": [
    {
     "data": {
      "text/plain": [
       "(6040, 3706)"
      ]
     },
     "execution_count": 31,
     "metadata": {},
     "output_type": "execute_result"
    }
   ],
   "source": [
    "X_lr.shape"
   ]
  },
  {
   "cell_type": "code",
   "execution_count": 35,
   "metadata": {
    "collapsed": false
   },
   "outputs": [
    {
     "data": {
      "text/html": [
       "<div>\n",
       "<table border=\"1\" class=\"dataframe\">\n",
       "  <thead>\n",
       "    <tr style=\"text-align: right;\">\n",
       "      <th></th>\n",
       "      <th>user_id</th>\n",
       "      <th>movie_id</th>\n",
       "      <th>rating</th>\n",
       "      <th>movie_title</th>\n",
       "      <th>movie_genre</th>\n",
       "    </tr>\n",
       "  </thead>\n",
       "  <tbody>\n",
       "    <tr>\n",
       "      <th>0</th>\n",
       "      <td>1</td>\n",
       "      <td>1193</td>\n",
       "      <td>5</td>\n",
       "      <td>One Flew Over the Cuckoo's Nest (1975)</td>\n",
       "      <td>Drama</td>\n",
       "    </tr>\n",
       "    <tr>\n",
       "      <th>46</th>\n",
       "      <td>1</td>\n",
       "      <td>1029</td>\n",
       "      <td>5</td>\n",
       "      <td>Dumbo (1941)</td>\n",
       "      <td>Animation|Children's|Musical</td>\n",
       "    </tr>\n",
       "    <tr>\n",
       "      <th>40</th>\n",
       "      <td>1</td>\n",
       "      <td>1</td>\n",
       "      <td>5</td>\n",
       "      <td>Toy Story (1995)</td>\n",
       "      <td>Animation|Children's|Comedy</td>\n",
       "    </tr>\n",
       "    <tr>\n",
       "      <th>18</th>\n",
       "      <td>1</td>\n",
       "      <td>3105</td>\n",
       "      <td>5</td>\n",
       "      <td>Awakenings (1990)</td>\n",
       "      <td>Drama</td>\n",
       "    </tr>\n",
       "    <tr>\n",
       "      <th>41</th>\n",
       "      <td>1</td>\n",
       "      <td>1961</td>\n",
       "      <td>5</td>\n",
       "      <td>Rain Man (1988)</td>\n",
       "      <td>Drama</td>\n",
       "    </tr>\n",
       "    <tr>\n",
       "      <th>23</th>\n",
       "      <td>1</td>\n",
       "      <td>527</td>\n",
       "      <td>5</td>\n",
       "      <td>Schindler's List (1993)</td>\n",
       "      <td>Drama|War</td>\n",
       "    </tr>\n",
       "    <tr>\n",
       "      <th>37</th>\n",
       "      <td>1</td>\n",
       "      <td>1022</td>\n",
       "      <td>5</td>\n",
       "      <td>Cinderella (1950)</td>\n",
       "      <td>Animation|Children's|Musical</td>\n",
       "    </tr>\n",
       "    <tr>\n",
       "      <th>14</th>\n",
       "      <td>1</td>\n",
       "      <td>1035</td>\n",
       "      <td>5</td>\n",
       "      <td>Sound of Music, The (1965)</td>\n",
       "      <td>Musical</td>\n",
       "    </tr>\n",
       "    <tr>\n",
       "      <th>25</th>\n",
       "      <td>1</td>\n",
       "      <td>48</td>\n",
       "      <td>5</td>\n",
       "      <td>Pocahontas (1995)</td>\n",
       "      <td>Animation|Children's|Musical|Romance</td>\n",
       "    </tr>\n",
       "    <tr>\n",
       "      <th>45</th>\n",
       "      <td>1</td>\n",
       "      <td>1028</td>\n",
       "      <td>5</td>\n",
       "      <td>Mary Poppins (1964)</td>\n",
       "      <td>Children's|Comedy|Musical</td>\n",
       "    </tr>\n",
       "    <tr>\n",
       "      <th>10</th>\n",
       "      <td>1</td>\n",
       "      <td>595</td>\n",
       "      <td>5</td>\n",
       "      <td>Beauty and the Beast (1991)</td>\n",
       "      <td>Animation|Children's|Musical</td>\n",
       "    </tr>\n",
       "    <tr>\n",
       "      <th>22</th>\n",
       "      <td>1</td>\n",
       "      <td>1270</td>\n",
       "      <td>5</td>\n",
       "      <td>Back to the Future (1985)</td>\n",
       "      <td>Comedy|Sci-Fi</td>\n",
       "    </tr>\n",
       "    <tr>\n",
       "      <th>36</th>\n",
       "      <td>1</td>\n",
       "      <td>1836</td>\n",
       "      <td>5</td>\n",
       "      <td>Last Days of Disco, The (1998)</td>\n",
       "      <td>Drama</td>\n",
       "    </tr>\n",
       "    <tr>\n",
       "      <th>48</th>\n",
       "      <td>1</td>\n",
       "      <td>2028</td>\n",
       "      <td>5</td>\n",
       "      <td>Saving Private Ryan (1998)</td>\n",
       "      <td>Action|Drama|War</td>\n",
       "    </tr>\n",
       "    <tr>\n",
       "      <th>7</th>\n",
       "      <td>1</td>\n",
       "      <td>2804</td>\n",
       "      <td>5</td>\n",
       "      <td>Christmas Story, A (1983)</td>\n",
       "      <td>Comedy|Drama</td>\n",
       "    </tr>\n",
       "    <tr>\n",
       "      <th>6</th>\n",
       "      <td>1</td>\n",
       "      <td>1287</td>\n",
       "      <td>5</td>\n",
       "      <td>Ben-Hur (1959)</td>\n",
       "      <td>Action|Adventure|Drama</td>\n",
       "    </tr>\n",
       "    <tr>\n",
       "      <th>4</th>\n",
       "      <td>1</td>\n",
       "      <td>2355</td>\n",
       "      <td>5</td>\n",
       "      <td>Bug's Life, A (1998)</td>\n",
       "      <td>Animation|Children's|Comedy</td>\n",
       "    </tr>\n",
       "    <tr>\n",
       "      <th>39</th>\n",
       "      <td>1</td>\n",
       "      <td>150</td>\n",
       "      <td>5</td>\n",
       "      <td>Apollo 13 (1995)</td>\n",
       "      <td>Drama</td>\n",
       "    </tr>\n",
       "    <tr>\n",
       "      <th>35</th>\n",
       "      <td>1</td>\n",
       "      <td>783</td>\n",
       "      <td>4</td>\n",
       "      <td>Hunchback of Notre Dame, The (1996)</td>\n",
       "      <td>Animation|Children's|Musical</td>\n",
       "    </tr>\n",
       "    <tr>\n",
       "      <th>34</th>\n",
       "      <td>1</td>\n",
       "      <td>1907</td>\n",
       "      <td>4</td>\n",
       "      <td>Mulan (1998)</td>\n",
       "      <td>Animation|Children's</td>\n",
       "    </tr>\n",
       "    <tr>\n",
       "      <th>33</th>\n",
       "      <td>1</td>\n",
       "      <td>588</td>\n",
       "      <td>4</td>\n",
       "      <td>Aladdin (1992)</td>\n",
       "      <td>Animation|Children's|Comedy|Musical</td>\n",
       "    </tr>\n",
       "    <tr>\n",
       "      <th>43</th>\n",
       "      <td>1</td>\n",
       "      <td>2692</td>\n",
       "      <td>4</td>\n",
       "      <td>Run Lola Run (Lola rennt) (1998)</td>\n",
       "      <td>Action|Crime|Romance</td>\n",
       "    </tr>\n",
       "    <tr>\n",
       "      <th>38</th>\n",
       "      <td>1</td>\n",
       "      <td>2762</td>\n",
       "      <td>4</td>\n",
       "      <td>Sixth Sense, The (1999)</td>\n",
       "      <td>Thriller</td>\n",
       "    </tr>\n",
       "    <tr>\n",
       "      <th>42</th>\n",
       "      <td>1</td>\n",
       "      <td>1962</td>\n",
       "      <td>4</td>\n",
       "      <td>Driving Miss Daisy (1989)</td>\n",
       "      <td>Drama</td>\n",
       "    </tr>\n",
       "    <tr>\n",
       "      <th>31</th>\n",
       "      <td>1</td>\n",
       "      <td>3186</td>\n",
       "      <td>4</td>\n",
       "      <td>Girl, Interrupted (1999)</td>\n",
       "      <td>Drama</td>\n",
       "    </tr>\n",
       "    <tr>\n",
       "      <th>44</th>\n",
       "      <td>1</td>\n",
       "      <td>260</td>\n",
       "      <td>4</td>\n",
       "      <td>Star Wars: Episode IV - A New Hope (1977)</td>\n",
       "      <td>Action|Adventure|Fantasy|Sci-Fi</td>\n",
       "    </tr>\n",
       "    <tr>\n",
       "      <th>47</th>\n",
       "      <td>1</td>\n",
       "      <td>1207</td>\n",
       "      <td>4</td>\n",
       "      <td>To Kill a Mockingbird (1962)</td>\n",
       "      <td>Drama</td>\n",
       "    </tr>\n",
       "    <tr>\n",
       "      <th>49</th>\n",
       "      <td>1</td>\n",
       "      <td>531</td>\n",
       "      <td>4</td>\n",
       "      <td>Secret Garden, The (1993)</td>\n",
       "      <td>Children's|Drama</td>\n",
       "    </tr>\n",
       "    <tr>\n",
       "      <th>50</th>\n",
       "      <td>1</td>\n",
       "      <td>3114</td>\n",
       "      <td>4</td>\n",
       "      <td>Toy Story 2 (1999)</td>\n",
       "      <td>Animation|Children's|Comedy</td>\n",
       "    </tr>\n",
       "    <tr>\n",
       "      <th>51</th>\n",
       "      <td>1</td>\n",
       "      <td>608</td>\n",
       "      <td>4</td>\n",
       "      <td>Fargo (1996)</td>\n",
       "      <td>Crime|Drama|Thriller</td>\n",
       "    </tr>\n",
       "    <tr>\n",
       "      <th>32</th>\n",
       "      <td>1</td>\n",
       "      <td>1566</td>\n",
       "      <td>4</td>\n",
       "      <td>Hercules (1997)</td>\n",
       "      <td>Adventure|Animation|Children's|Comedy|Musical</td>\n",
       "    </tr>\n",
       "    <tr>\n",
       "      <th>26</th>\n",
       "      <td>1</td>\n",
       "      <td>1097</td>\n",
       "      <td>4</td>\n",
       "      <td>E.T. the Extra-Terrestrial (1982)</td>\n",
       "      <td>Children's|Drama|Fantasy|Sci-Fi</td>\n",
       "    </tr>\n",
       "    <tr>\n",
       "      <th>30</th>\n",
       "      <td>1</td>\n",
       "      <td>2294</td>\n",
       "      <td>4</td>\n",
       "      <td>Antz (1998)</td>\n",
       "      <td>Animation|Children's</td>\n",
       "    </tr>\n",
       "    <tr>\n",
       "      <th>17</th>\n",
       "      <td>1</td>\n",
       "      <td>2018</td>\n",
       "      <td>4</td>\n",
       "      <td>Bambi (1942)</td>\n",
       "      <td>Animation|Children's</td>\n",
       "    </tr>\n",
       "    <tr>\n",
       "      <th>3</th>\n",
       "      <td>1</td>\n",
       "      <td>3408</td>\n",
       "      <td>4</td>\n",
       "      <td>Erin Brockovich (2000)</td>\n",
       "      <td>Drama</td>\n",
       "    </tr>\n",
       "    <tr>\n",
       "      <th>8</th>\n",
       "      <td>1</td>\n",
       "      <td>594</td>\n",
       "      <td>4</td>\n",
       "      <td>Snow White and the Seven Dwarfs (1937)</td>\n",
       "      <td>Animation|Children's|Musical</td>\n",
       "    </tr>\n",
       "    <tr>\n",
       "      <th>9</th>\n",
       "      <td>1</td>\n",
       "      <td>919</td>\n",
       "      <td>4</td>\n",
       "      <td>Wizard of Oz, The (1939)</td>\n",
       "      <td>Adventure|Children's|Drama|Musical</td>\n",
       "    </tr>\n",
       "    <tr>\n",
       "      <th>11</th>\n",
       "      <td>1</td>\n",
       "      <td>938</td>\n",
       "      <td>4</td>\n",
       "      <td>Gigi (1958)</td>\n",
       "      <td>Musical</td>\n",
       "    </tr>\n",
       "    <tr>\n",
       "      <th>12</th>\n",
       "      <td>1</td>\n",
       "      <td>2398</td>\n",
       "      <td>4</td>\n",
       "      <td>Miracle on 34th Street (1947)</td>\n",
       "      <td>Drama</td>\n",
       "    </tr>\n",
       "    <tr>\n",
       "      <th>13</th>\n",
       "      <td>1</td>\n",
       "      <td>2918</td>\n",
       "      <td>4</td>\n",
       "      <td>Ferris Bueller's Day Off (1986)</td>\n",
       "      <td>Comedy</td>\n",
       "    </tr>\n",
       "    <tr>\n",
       "      <th>15</th>\n",
       "      <td>1</td>\n",
       "      <td>2791</td>\n",
       "      <td>4</td>\n",
       "      <td>Airplane! (1980)</td>\n",
       "      <td>Comedy</td>\n",
       "    </tr>\n",
       "    <tr>\n",
       "      <th>52</th>\n",
       "      <td>1</td>\n",
       "      <td>1246</td>\n",
       "      <td>4</td>\n",
       "      <td>Dead Poets Society (1989)</td>\n",
       "      <td>Drama</td>\n",
       "    </tr>\n",
       "    <tr>\n",
       "      <th>19</th>\n",
       "      <td>1</td>\n",
       "      <td>2797</td>\n",
       "      <td>4</td>\n",
       "      <td>Big (1988)</td>\n",
       "      <td>Comedy|Fantasy</td>\n",
       "    </tr>\n",
       "    <tr>\n",
       "      <th>27</th>\n",
       "      <td>1</td>\n",
       "      <td>1721</td>\n",
       "      <td>4</td>\n",
       "      <td>Titanic (1997)</td>\n",
       "      <td>Drama|Romance</td>\n",
       "    </tr>\n",
       "    <tr>\n",
       "      <th>28</th>\n",
       "      <td>1</td>\n",
       "      <td>1545</td>\n",
       "      <td>4</td>\n",
       "      <td>Ponette (1996)</td>\n",
       "      <td>Drama</td>\n",
       "    </tr>\n",
       "    <tr>\n",
       "      <th>29</th>\n",
       "      <td>1</td>\n",
       "      <td>745</td>\n",
       "      <td>3</td>\n",
       "      <td>Close Shave, A (1995)</td>\n",
       "      <td>Animation|Comedy|Thriller</td>\n",
       "    </tr>\n",
       "    <tr>\n",
       "      <th>20</th>\n",
       "      <td>1</td>\n",
       "      <td>2321</td>\n",
       "      <td>3</td>\n",
       "      <td>Pleasantville (1998)</td>\n",
       "      <td>Comedy</td>\n",
       "    </tr>\n",
       "    <tr>\n",
       "      <th>21</th>\n",
       "      <td>1</td>\n",
       "      <td>720</td>\n",
       "      <td>3</td>\n",
       "      <td>Wallace &amp; Gromit: The Best of Aardman Animatio...</td>\n",
       "      <td>Animation</td>\n",
       "    </tr>\n",
       "    <tr>\n",
       "      <th>24</th>\n",
       "      <td>1</td>\n",
       "      <td>2340</td>\n",
       "      <td>3</td>\n",
       "      <td>Meet Joe Black (1998)</td>\n",
       "      <td>Romance</td>\n",
       "    </tr>\n",
       "    <tr>\n",
       "      <th>1</th>\n",
       "      <td>1</td>\n",
       "      <td>661</td>\n",
       "      <td>3</td>\n",
       "      <td>James and the Giant Peach (1996)</td>\n",
       "      <td>Animation|Children's|Musical</td>\n",
       "    </tr>\n",
       "    <tr>\n",
       "      <th>5</th>\n",
       "      <td>1</td>\n",
       "      <td>1197</td>\n",
       "      <td>3</td>\n",
       "      <td>Princess Bride, The (1987)</td>\n",
       "      <td>Action|Adventure|Comedy|Romance</td>\n",
       "    </tr>\n",
       "    <tr>\n",
       "      <th>2</th>\n",
       "      <td>1</td>\n",
       "      <td>914</td>\n",
       "      <td>3</td>\n",
       "      <td>My Fair Lady (1964)</td>\n",
       "      <td>Musical|Romance</td>\n",
       "    </tr>\n",
       "    <tr>\n",
       "      <th>16</th>\n",
       "      <td>1</td>\n",
       "      <td>2687</td>\n",
       "      <td>3</td>\n",
       "      <td>Tarzan (1999)</td>\n",
       "      <td>Animation|Children's</td>\n",
       "    </tr>\n",
       "  </tbody>\n",
       "</table>\n",
       "</div>"
      ],
      "text/plain": [
       "    user_id  movie_id  rating  \\\n",
       "0         1      1193       5   \n",
       "46        1      1029       5   \n",
       "40        1         1       5   \n",
       "18        1      3105       5   \n",
       "41        1      1961       5   \n",
       "23        1       527       5   \n",
       "37        1      1022       5   \n",
       "14        1      1035       5   \n",
       "25        1        48       5   \n",
       "45        1      1028       5   \n",
       "10        1       595       5   \n",
       "22        1      1270       5   \n",
       "36        1      1836       5   \n",
       "48        1      2028       5   \n",
       "7         1      2804       5   \n",
       "6         1      1287       5   \n",
       "4         1      2355       5   \n",
       "39        1       150       5   \n",
       "35        1       783       4   \n",
       "34        1      1907       4   \n",
       "33        1       588       4   \n",
       "43        1      2692       4   \n",
       "38        1      2762       4   \n",
       "42        1      1962       4   \n",
       "31        1      3186       4   \n",
       "44        1       260       4   \n",
       "47        1      1207       4   \n",
       "49        1       531       4   \n",
       "50        1      3114       4   \n",
       "51        1       608       4   \n",
       "32        1      1566       4   \n",
       "26        1      1097       4   \n",
       "30        1      2294       4   \n",
       "17        1      2018       4   \n",
       "3         1      3408       4   \n",
       "8         1       594       4   \n",
       "9         1       919       4   \n",
       "11        1       938       4   \n",
       "12        1      2398       4   \n",
       "13        1      2918       4   \n",
       "15        1      2791       4   \n",
       "52        1      1246       4   \n",
       "19        1      2797       4   \n",
       "27        1      1721       4   \n",
       "28        1      1545       4   \n",
       "29        1       745       3   \n",
       "20        1      2321       3   \n",
       "21        1       720       3   \n",
       "24        1      2340       3   \n",
       "1         1       661       3   \n",
       "5         1      1197       3   \n",
       "2         1       914       3   \n",
       "16        1      2687       3   \n",
       "\n",
       "                                          movie_title  \\\n",
       "0              One Flew Over the Cuckoo's Nest (1975)   \n",
       "46                                       Dumbo (1941)   \n",
       "40                                   Toy Story (1995)   \n",
       "18                                  Awakenings (1990)   \n",
       "41                                    Rain Man (1988)   \n",
       "23                            Schindler's List (1993)   \n",
       "37                                  Cinderella (1950)   \n",
       "14                         Sound of Music, The (1965)   \n",
       "25                                  Pocahontas (1995)   \n",
       "45                                Mary Poppins (1964)   \n",
       "10                        Beauty and the Beast (1991)   \n",
       "22                          Back to the Future (1985)   \n",
       "36                     Last Days of Disco, The (1998)   \n",
       "48                         Saving Private Ryan (1998)   \n",
       "7                           Christmas Story, A (1983)   \n",
       "6                                      Ben-Hur (1959)   \n",
       "4                                Bug's Life, A (1998)   \n",
       "39                                   Apollo 13 (1995)   \n",
       "35                Hunchback of Notre Dame, The (1996)   \n",
       "34                                       Mulan (1998)   \n",
       "33                                     Aladdin (1992)   \n",
       "43                   Run Lola Run (Lola rennt) (1998)   \n",
       "38                            Sixth Sense, The (1999)   \n",
       "42                          Driving Miss Daisy (1989)   \n",
       "31                           Girl, Interrupted (1999)   \n",
       "44          Star Wars: Episode IV - A New Hope (1977)   \n",
       "47                       To Kill a Mockingbird (1962)   \n",
       "49                          Secret Garden, The (1993)   \n",
       "50                                 Toy Story 2 (1999)   \n",
       "51                                       Fargo (1996)   \n",
       "32                                    Hercules (1997)   \n",
       "26                  E.T. the Extra-Terrestrial (1982)   \n",
       "30                                        Antz (1998)   \n",
       "17                                       Bambi (1942)   \n",
       "3                              Erin Brockovich (2000)   \n",
       "8              Snow White and the Seven Dwarfs (1937)   \n",
       "9                            Wizard of Oz, The (1939)   \n",
       "11                                        Gigi (1958)   \n",
       "12                      Miracle on 34th Street (1947)   \n",
       "13                    Ferris Bueller's Day Off (1986)   \n",
       "15                                   Airplane! (1980)   \n",
       "52                          Dead Poets Society (1989)   \n",
       "19                                         Big (1988)   \n",
       "27                                     Titanic (1997)   \n",
       "28                                     Ponette (1996)   \n",
       "29                              Close Shave, A (1995)   \n",
       "20                               Pleasantville (1998)   \n",
       "21  Wallace & Gromit: The Best of Aardman Animatio...   \n",
       "24                              Meet Joe Black (1998)   \n",
       "1                    James and the Giant Peach (1996)   \n",
       "5                          Princess Bride, The (1987)   \n",
       "2                                 My Fair Lady (1964)   \n",
       "16                                      Tarzan (1999)   \n",
       "\n",
       "                                      movie_genre  \n",
       "0                                           Drama  \n",
       "46                   Animation|Children's|Musical  \n",
       "40                    Animation|Children's|Comedy  \n",
       "18                                          Drama  \n",
       "41                                          Drama  \n",
       "23                                      Drama|War  \n",
       "37                   Animation|Children's|Musical  \n",
       "14                                        Musical  \n",
       "25           Animation|Children's|Musical|Romance  \n",
       "45                      Children's|Comedy|Musical  \n",
       "10                   Animation|Children's|Musical  \n",
       "22                                  Comedy|Sci-Fi  \n",
       "36                                          Drama  \n",
       "48                               Action|Drama|War  \n",
       "7                                    Comedy|Drama  \n",
       "6                          Action|Adventure|Drama  \n",
       "4                     Animation|Children's|Comedy  \n",
       "39                                          Drama  \n",
       "35                   Animation|Children's|Musical  \n",
       "34                           Animation|Children's  \n",
       "33            Animation|Children's|Comedy|Musical  \n",
       "43                           Action|Crime|Romance  \n",
       "38                                       Thriller  \n",
       "42                                          Drama  \n",
       "31                                          Drama  \n",
       "44                Action|Adventure|Fantasy|Sci-Fi  \n",
       "47                                          Drama  \n",
       "49                               Children's|Drama  \n",
       "50                    Animation|Children's|Comedy  \n",
       "51                           Crime|Drama|Thriller  \n",
       "32  Adventure|Animation|Children's|Comedy|Musical  \n",
       "26                Children's|Drama|Fantasy|Sci-Fi  \n",
       "30                           Animation|Children's  \n",
       "17                           Animation|Children's  \n",
       "3                                           Drama  \n",
       "8                    Animation|Children's|Musical  \n",
       "9              Adventure|Children's|Drama|Musical  \n",
       "11                                        Musical  \n",
       "12                                          Drama  \n",
       "13                                         Comedy  \n",
       "15                                         Comedy  \n",
       "52                                          Drama  \n",
       "19                                 Comedy|Fantasy  \n",
       "27                                  Drama|Romance  \n",
       "28                                          Drama  \n",
       "29                      Animation|Comedy|Thriller  \n",
       "20                                         Comedy  \n",
       "21                                      Animation  \n",
       "24                                        Romance  \n",
       "1                    Animation|Children's|Musical  \n",
       "5                 Action|Adventure|Comedy|Romance  \n",
       "2                                 Musical|Romance  \n",
       "16                           Animation|Children's  "
      ]
     },
     "execution_count": 35,
     "metadata": {},
     "output_type": "execute_result"
    }
   ],
   "source": [
    "user_ratings = ratings_df[ratings_df.user_id==sample_user].merge(\n",
    "               movies_df, on='movie_id'\n",
    "              ).sort_values(by='rating',ascending=False)\n",
    "user_ratings_movies = user_ratings.movie_id.tolist()\n",
    "user_ratings"
   ]
  },
  {
   "cell_type": "code",
   "execution_count": 36,
   "metadata": {
    "collapsed": false
   },
   "outputs": [
    {
     "name": "stderr",
     "output_type": "stream",
     "text": [
      "/home/manuel/anaconda3/envs/pydata/lib/python3.5/site-packages/ipykernel/__main__.py:6: FutureWarning: sort(columns=....) is deprecated, use sort_values(by=.....)\n"
     ]
    },
    {
     "data": {
      "text/html": [
       "<div>\n",
       "<table border=\"1\" class=\"dataframe\">\n",
       "  <thead>\n",
       "    <tr style=\"text-align: right;\">\n",
       "      <th></th>\n",
       "      <th>movie_id</th>\n",
       "      <th>normalized_score</th>\n",
       "      <th>pred_score</th>\n",
       "      <th>movie_title</th>\n",
       "      <th>movie_genre</th>\n",
       "    </tr>\n",
       "  </thead>\n",
       "  <tbody>\n",
       "    <tr>\n",
       "      <th>0</th>\n",
       "      <td>23</td>\n",
       "      <td>5.000000</td>\n",
       "      <td>5.001451</td>\n",
       "      <td>Assassins (1995)</td>\n",
       "      <td>Thriller</td>\n",
       "    </tr>\n",
       "    <tr>\n",
       "      <th>1</th>\n",
       "      <td>22</td>\n",
       "      <td>5.000000</td>\n",
       "      <td>5.001254</td>\n",
       "      <td>Copycat (1995)</td>\n",
       "      <td>Crime|Drama|Thriller</td>\n",
       "    </tr>\n",
       "    <tr>\n",
       "      <th>2</th>\n",
       "      <td>14</td>\n",
       "      <td>5.000000</td>\n",
       "      <td>4.996516</td>\n",
       "      <td>Nixon (1995)</td>\n",
       "      <td>Drama</td>\n",
       "    </tr>\n",
       "    <tr>\n",
       "      <th>3</th>\n",
       "      <td>4</td>\n",
       "      <td>5.000000</td>\n",
       "      <td>4.996171</td>\n",
       "      <td>Waiting to Exhale (1995)</td>\n",
       "      <td>Comedy|Drama</td>\n",
       "    </tr>\n",
       "    <tr>\n",
       "      <th>4</th>\n",
       "      <td>40</td>\n",
       "      <td>5.000000</td>\n",
       "      <td>4.995617</td>\n",
       "      <td>Cry, the Beloved Country (1995)</td>\n",
       "      <td>Drama</td>\n",
       "    </tr>\n",
       "    <tr>\n",
       "      <th>5</th>\n",
       "      <td>41</td>\n",
       "      <td>5.000000</td>\n",
       "      <td>4.995482</td>\n",
       "      <td>Richard III (1995)</td>\n",
       "      <td>Drama|War</td>\n",
       "    </tr>\n",
       "    <tr>\n",
       "      <th>6</th>\n",
       "      <td>7</td>\n",
       "      <td>5.000000</td>\n",
       "      <td>4.993081</td>\n",
       "      <td>Sabrina (1995)</td>\n",
       "      <td>Comedy|Romance</td>\n",
       "    </tr>\n",
       "    <tr>\n",
       "      <th>7</th>\n",
       "      <td>10</td>\n",
       "      <td>5.000000</td>\n",
       "      <td>4.989680</td>\n",
       "      <td>GoldenEye (1995)</td>\n",
       "      <td>Action|Adventure|Thriller</td>\n",
       "    </tr>\n",
       "    <tr>\n",
       "      <th>8</th>\n",
       "      <td>39</td>\n",
       "      <td>5.000000</td>\n",
       "      <td>4.989618</td>\n",
       "      <td>Clueless (1995)</td>\n",
       "      <td>Comedy|Romance</td>\n",
       "    </tr>\n",
       "    <tr>\n",
       "      <th>9</th>\n",
       "      <td>45</td>\n",
       "      <td>5.000000</td>\n",
       "      <td>4.986121</td>\n",
       "      <td>To Die For (1995)</td>\n",
       "      <td>Comedy|Drama</td>\n",
       "    </tr>\n",
       "    <tr>\n",
       "      <th>10</th>\n",
       "      <td>6</td>\n",
       "      <td>5.000000</td>\n",
       "      <td>4.980347</td>\n",
       "      <td>Heat (1995)</td>\n",
       "      <td>Action|Crime|Thriller</td>\n",
       "    </tr>\n",
       "    <tr>\n",
       "      <th>11</th>\n",
       "      <td>18</td>\n",
       "      <td>5.000000</td>\n",
       "      <td>4.965646</td>\n",
       "      <td>Four Rooms (1995)</td>\n",
       "      <td>Thriller</td>\n",
       "    </tr>\n",
       "    <tr>\n",
       "      <th>12</th>\n",
       "      <td>46</td>\n",
       "      <td>5.000000</td>\n",
       "      <td>4.955186</td>\n",
       "      <td>How to Make an American Quilt (1995)</td>\n",
       "      <td>Drama|Romance</td>\n",
       "    </tr>\n",
       "    <tr>\n",
       "      <th>13</th>\n",
       "      <td>37</td>\n",
       "      <td>5.000000</td>\n",
       "      <td>4.944571</td>\n",
       "      <td>Across the Sea of Time (1995)</td>\n",
       "      <td>Documentary</td>\n",
       "    </tr>\n",
       "    <tr>\n",
       "      <th>14</th>\n",
       "      <td>25</td>\n",
       "      <td>5.000000</td>\n",
       "      <td>4.942696</td>\n",
       "      <td>Leaving Las Vegas (1995)</td>\n",
       "      <td>Drama|Romance</td>\n",
       "    </tr>\n",
       "    <tr>\n",
       "      <th>15</th>\n",
       "      <td>36</td>\n",
       "      <td>5.000000</td>\n",
       "      <td>4.695061</td>\n",
       "      <td>Dead Man Walking (1995)</td>\n",
       "      <td>Drama</td>\n",
       "    </tr>\n",
       "    <tr>\n",
       "      <th>16</th>\n",
       "      <td>3693</td>\n",
       "      <td>4.633283</td>\n",
       "      <td>4.633705</td>\n",
       "      <td>Toxic Avenger, The (1985)</td>\n",
       "      <td>Comedy|Horror</td>\n",
       "    </tr>\n",
       "    <tr>\n",
       "      <th>17</th>\n",
       "      <td>3704</td>\n",
       "      <td>4.633283</td>\n",
       "      <td>4.633678</td>\n",
       "      <td>Mad Max Beyond Thunderdome (1985)</td>\n",
       "      <td>Action|Sci-Fi</td>\n",
       "    </tr>\n",
       "    <tr>\n",
       "      <th>18</th>\n",
       "      <td>3632</td>\n",
       "      <td>4.633283</td>\n",
       "      <td>4.632974</td>\n",
       "      <td>Monsieur Verdoux (1947)</td>\n",
       "      <td>Comedy</td>\n",
       "    </tr>\n",
       "    <tr>\n",
       "      <th>19</th>\n",
       "      <td>3610</td>\n",
       "      <td>4.633283</td>\n",
       "      <td>4.632948</td>\n",
       "      <td>Roustabout (1964)</td>\n",
       "      <td>Musical</td>\n",
       "    </tr>\n",
       "  </tbody>\n",
       "</table>\n",
       "</div>"
      ],
      "text/plain": [
       "    movie_id  normalized_score  pred_score  \\\n",
       "0         23          5.000000    5.001451   \n",
       "1         22          5.000000    5.001254   \n",
       "2         14          5.000000    4.996516   \n",
       "3          4          5.000000    4.996171   \n",
       "4         40          5.000000    4.995617   \n",
       "5         41          5.000000    4.995482   \n",
       "6          7          5.000000    4.993081   \n",
       "7         10          5.000000    4.989680   \n",
       "8         39          5.000000    4.989618   \n",
       "9         45          5.000000    4.986121   \n",
       "10         6          5.000000    4.980347   \n",
       "11        18          5.000000    4.965646   \n",
       "12        46          5.000000    4.955186   \n",
       "13        37          5.000000    4.944571   \n",
       "14        25          5.000000    4.942696   \n",
       "15        36          5.000000    4.695061   \n",
       "16      3693          4.633283    4.633705   \n",
       "17      3704          4.633283    4.633678   \n",
       "18      3632          4.633283    4.632974   \n",
       "19      3610          4.633283    4.632948   \n",
       "\n",
       "                             movie_title                movie_genre  \n",
       "0                       Assassins (1995)                   Thriller  \n",
       "1                         Copycat (1995)       Crime|Drama|Thriller  \n",
       "2                           Nixon (1995)                      Drama  \n",
       "3               Waiting to Exhale (1995)               Comedy|Drama  \n",
       "4        Cry, the Beloved Country (1995)                      Drama  \n",
       "5                     Richard III (1995)                  Drama|War  \n",
       "6                         Sabrina (1995)             Comedy|Romance  \n",
       "7                       GoldenEye (1995)  Action|Adventure|Thriller  \n",
       "8                        Clueless (1995)             Comedy|Romance  \n",
       "9                      To Die For (1995)               Comedy|Drama  \n",
       "10                           Heat (1995)      Action|Crime|Thriller  \n",
       "11                     Four Rooms (1995)                   Thriller  \n",
       "12  How to Make an American Quilt (1995)              Drama|Romance  \n",
       "13         Across the Sea of Time (1995)                Documentary  \n",
       "14              Leaving Las Vegas (1995)              Drama|Romance  \n",
       "15               Dead Man Walking (1995)                      Drama  \n",
       "16             Toxic Avenger, The (1985)              Comedy|Horror  \n",
       "17     Mad Max Beyond Thunderdome (1985)              Action|Sci-Fi  \n",
       "18               Monsieur Verdoux (1947)                     Comedy  \n",
       "19                     Roustabout (1964)                    Musical  "
      ]
     },
     "execution_count": 36,
     "metadata": {},
     "output_type": "execute_result"
    }
   ],
   "source": [
    "user_predicted_scores_df = pd.DataFrame({\n",
    "        'movie_id': list(movie_indices.values()),\n",
    "        'normalized_score': ratings_mtx[user_indices[sample_user],:],\n",
    "        'pred_score': X_lr[user_indices[sample_user],:]})\n",
    "user_predicted_scores_df = user_predicted_scores_df[-user_predicted_scores_df.movie_id.isin(user_ratings_movies)]\n",
    "user_predicted_scores_df.sort(columns=['pred_score'], ascending=False).merge(movies_df, on='movie_id').head(20)"
   ]
  },
  {
   "cell_type": "markdown",
   "metadata": {},
   "source": [
    "### We can load the 10M svd matrix and see how it performs"
   ]
  },
  {
   "cell_type": "code",
   "execution_count": 56,
   "metadata": {
    "collapsed": false
   },
   "outputs": [
    {
     "name": "stderr",
     "output_type": "stream",
     "text": [
      "/home/manuel/anaconda3/envs/pydata/lib/python3.5/site-packages/ipykernel/__main__.py:1: ParserWarning: Falling back to the 'python' engine because the 'c' engine does not support regex separators; you can avoid this warning by specifying engine='python'.\n",
      "  if __name__ == '__main__':\n"
     ]
    }
   ],
   "source": [
    "ratings_df = pd.read_table('assets/ml-10M100K/ratings.dat', header=None, \n",
    "                           sep='::', names=['user_id', 'movie_id', 'rating', 'timestamp'],\n",
    "                           engine='python')\n",
    "del ratings_df['timestamp']\n",
    "\n",
    "\n",
    "users = ratings_df.user_id.unique()\n",
    "movies = ratings_df.movie_id.unique()\n",
    " \n",
    "number_of_rows = len(users)\n",
    "number_of_columns = len(movies)\n",
    "\n",
    "movie_indices, user_indices = {}, {}\n",
    " \n",
    "for i in range(len(movies)):\n",
    "    movie_indices[movies[i]] = i\n",
    "    \n",
    "for i in range(len(users)):\n",
    "    user_indices[users[i]] = i"
   ]
  },
  {
   "cell_type": "markdown",
   "metadata": {},
   "source": [
    "Load the pickled svd components"
   ]
  },
  {
   "cell_type": "code",
   "execution_count": 45,
   "metadata": {
    "collapsed": false
   },
   "outputs": [],
   "source": [
    "u_10 = np.load('assets/ml-10M100K/movielens_10M_svd_u.pickle')\n",
    "s_10 = np.load('assets/ml-10M100K/movielens_10M_svd_s.pickle')\n",
    "vt_10 = np.load('assets/ml-10M100K/movielens_10M_svd_vt.pickle')\n",
    "\n",
    "s_diag_matrix_10 = np.zeros((s_10.shape[0], s_10.shape[0]))\n",
    "\n",
    "for i in range(s_10.shape[0]):\n",
    "    s_diag_matrix_10[i,i] = s_10[i]\n",
    "    \n",
    "X_lr = np.dot(np.dot(u_10, s_diag_matrix_10), vt_10)"
   ]
  },
  {
   "cell_type": "code",
   "execution_count": 51,
   "metadata": {
    "collapsed": false
   },
   "outputs": [
    {
     "data": {
      "text/html": [
       "<div>\n",
       "<table border=\"1\" class=\"dataframe\">\n",
       "  <thead>\n",
       "    <tr style=\"text-align: right;\">\n",
       "      <th></th>\n",
       "      <th>user_id</th>\n",
       "      <th>movie_id</th>\n",
       "      <th>rating</th>\n",
       "      <th>movie_title</th>\n",
       "      <th>movie_genre</th>\n",
       "    </tr>\n",
       "  </thead>\n",
       "  <tbody>\n",
       "    <tr>\n",
       "      <th>0</th>\n",
       "      <td>1</td>\n",
       "      <td>122</td>\n",
       "      <td>5.0</td>\n",
       "      <td>Boomerang (1992)</td>\n",
       "      <td>Comedy|Romance</td>\n",
       "    </tr>\n",
       "    <tr>\n",
       "      <th>1</th>\n",
       "      <td>1</td>\n",
       "      <td>185</td>\n",
       "      <td>5.0</td>\n",
       "      <td>Net, The (1995)</td>\n",
       "      <td>Sci-Fi|Thriller</td>\n",
       "    </tr>\n",
       "    <tr>\n",
       "      <th>20</th>\n",
       "      <td>1</td>\n",
       "      <td>594</td>\n",
       "      <td>5.0</td>\n",
       "      <td>Snow White and the Seven Dwarfs (1937)</td>\n",
       "      <td>Animation|Children's|Musical</td>\n",
       "    </tr>\n",
       "    <tr>\n",
       "      <th>19</th>\n",
       "      <td>1</td>\n",
       "      <td>589</td>\n",
       "      <td>5.0</td>\n",
       "      <td>Terminator 2: Judgment Day (1991)</td>\n",
       "      <td>Action|Sci-Fi|Thriller</td>\n",
       "    </tr>\n",
       "    <tr>\n",
       "      <th>18</th>\n",
       "      <td>1</td>\n",
       "      <td>588</td>\n",
       "      <td>5.0</td>\n",
       "      <td>Aladdin (1992)</td>\n",
       "      <td>Animation|Children's|Comedy|Musical</td>\n",
       "    </tr>\n",
       "    <tr>\n",
       "      <th>17</th>\n",
       "      <td>1</td>\n",
       "      <td>586</td>\n",
       "      <td>5.0</td>\n",
       "      <td>Home Alone (1990)</td>\n",
       "      <td>Children's|Comedy</td>\n",
       "    </tr>\n",
       "    <tr>\n",
       "      <th>16</th>\n",
       "      <td>1</td>\n",
       "      <td>539</td>\n",
       "      <td>5.0</td>\n",
       "      <td>Sleepless in Seattle (1993)</td>\n",
       "      <td>Comedy|Romance</td>\n",
       "    </tr>\n",
       "    <tr>\n",
       "      <th>15</th>\n",
       "      <td>1</td>\n",
       "      <td>520</td>\n",
       "      <td>5.0</td>\n",
       "      <td>Robin Hood: Men in Tights (1993)</td>\n",
       "      <td>Comedy</td>\n",
       "    </tr>\n",
       "    <tr>\n",
       "      <th>14</th>\n",
       "      <td>1</td>\n",
       "      <td>480</td>\n",
       "      <td>5.0</td>\n",
       "      <td>Jurassic Park (1993)</td>\n",
       "      <td>Action|Adventure|Sci-Fi</td>\n",
       "    </tr>\n",
       "    <tr>\n",
       "      <th>13</th>\n",
       "      <td>1</td>\n",
       "      <td>466</td>\n",
       "      <td>5.0</td>\n",
       "      <td>Hot Shots! Part Deux (1993)</td>\n",
       "      <td>Action|Comedy|War</td>\n",
       "    </tr>\n",
       "    <tr>\n",
       "      <th>12</th>\n",
       "      <td>1</td>\n",
       "      <td>420</td>\n",
       "      <td>5.0</td>\n",
       "      <td>Beverly Hills Cop III (1994)</td>\n",
       "      <td>Action|Comedy</td>\n",
       "    </tr>\n",
       "    <tr>\n",
       "      <th>11</th>\n",
       "      <td>1</td>\n",
       "      <td>377</td>\n",
       "      <td>5.0</td>\n",
       "      <td>Speed (1994)</td>\n",
       "      <td>Action|Romance|Thriller</td>\n",
       "    </tr>\n",
       "    <tr>\n",
       "      <th>10</th>\n",
       "      <td>1</td>\n",
       "      <td>370</td>\n",
       "      <td>5.0</td>\n",
       "      <td>Naked Gun 33 1/3: The Final Insult (1994)</td>\n",
       "      <td>Comedy</td>\n",
       "    </tr>\n",
       "    <tr>\n",
       "      <th>9</th>\n",
       "      <td>1</td>\n",
       "      <td>364</td>\n",
       "      <td>5.0</td>\n",
       "      <td>Lion King, The (1994)</td>\n",
       "      <td>Animation|Children's|Musical</td>\n",
       "    </tr>\n",
       "    <tr>\n",
       "      <th>8</th>\n",
       "      <td>1</td>\n",
       "      <td>362</td>\n",
       "      <td>5.0</td>\n",
       "      <td>Jungle Book, The (1994)</td>\n",
       "      <td>Adventure|Children's|Romance</td>\n",
       "    </tr>\n",
       "    <tr>\n",
       "      <th>7</th>\n",
       "      <td>1</td>\n",
       "      <td>356</td>\n",
       "      <td>5.0</td>\n",
       "      <td>Forrest Gump (1994)</td>\n",
       "      <td>Comedy|Romance|War</td>\n",
       "    </tr>\n",
       "    <tr>\n",
       "      <th>6</th>\n",
       "      <td>1</td>\n",
       "      <td>355</td>\n",
       "      <td>5.0</td>\n",
       "      <td>Flintstones, The (1994)</td>\n",
       "      <td>Children's|Comedy</td>\n",
       "    </tr>\n",
       "    <tr>\n",
       "      <th>5</th>\n",
       "      <td>1</td>\n",
       "      <td>329</td>\n",
       "      <td>5.0</td>\n",
       "      <td>Star Trek: Generations (1994)</td>\n",
       "      <td>Action|Adventure|Sci-Fi</td>\n",
       "    </tr>\n",
       "    <tr>\n",
       "      <th>4</th>\n",
       "      <td>1</td>\n",
       "      <td>316</td>\n",
       "      <td>5.0</td>\n",
       "      <td>Stargate (1994)</td>\n",
       "      <td>Action|Adventure|Sci-Fi</td>\n",
       "    </tr>\n",
       "    <tr>\n",
       "      <th>3</th>\n",
       "      <td>1</td>\n",
       "      <td>292</td>\n",
       "      <td>5.0</td>\n",
       "      <td>Outbreak (1995)</td>\n",
       "      <td>Action|Drama|Thriller</td>\n",
       "    </tr>\n",
       "    <tr>\n",
       "      <th>2</th>\n",
       "      <td>1</td>\n",
       "      <td>231</td>\n",
       "      <td>5.0</td>\n",
       "      <td>Dumb &amp; Dumber (1994)</td>\n",
       "      <td>Comedy</td>\n",
       "    </tr>\n",
       "    <tr>\n",
       "      <th>21</th>\n",
       "      <td>1</td>\n",
       "      <td>616</td>\n",
       "      <td>5.0</td>\n",
       "      <td>Aristocats, The (1970)</td>\n",
       "      <td>Animation|Children's</td>\n",
       "    </tr>\n",
       "  </tbody>\n",
       "</table>\n",
       "</div>"
      ],
      "text/plain": [
       "    user_id  movie_id  rating                                movie_title  \\\n",
       "0         1       122     5.0                           Boomerang (1992)   \n",
       "1         1       185     5.0                            Net, The (1995)   \n",
       "20        1       594     5.0     Snow White and the Seven Dwarfs (1937)   \n",
       "19        1       589     5.0          Terminator 2: Judgment Day (1991)   \n",
       "18        1       588     5.0                             Aladdin (1992)   \n",
       "17        1       586     5.0                          Home Alone (1990)   \n",
       "16        1       539     5.0                Sleepless in Seattle (1993)   \n",
       "15        1       520     5.0           Robin Hood: Men in Tights (1993)   \n",
       "14        1       480     5.0                       Jurassic Park (1993)   \n",
       "13        1       466     5.0                Hot Shots! Part Deux (1993)   \n",
       "12        1       420     5.0               Beverly Hills Cop III (1994)   \n",
       "11        1       377     5.0                               Speed (1994)   \n",
       "10        1       370     5.0  Naked Gun 33 1/3: The Final Insult (1994)   \n",
       "9         1       364     5.0                      Lion King, The (1994)   \n",
       "8         1       362     5.0                    Jungle Book, The (1994)   \n",
       "7         1       356     5.0                        Forrest Gump (1994)   \n",
       "6         1       355     5.0                    Flintstones, The (1994)   \n",
       "5         1       329     5.0              Star Trek: Generations (1994)   \n",
       "4         1       316     5.0                            Stargate (1994)   \n",
       "3         1       292     5.0                            Outbreak (1995)   \n",
       "2         1       231     5.0                       Dumb & Dumber (1994)   \n",
       "21        1       616     5.0                     Aristocats, The (1970)   \n",
       "\n",
       "                            movie_genre  \n",
       "0                        Comedy|Romance  \n",
       "1                       Sci-Fi|Thriller  \n",
       "20         Animation|Children's|Musical  \n",
       "19               Action|Sci-Fi|Thriller  \n",
       "18  Animation|Children's|Comedy|Musical  \n",
       "17                    Children's|Comedy  \n",
       "16                       Comedy|Romance  \n",
       "15                               Comedy  \n",
       "14              Action|Adventure|Sci-Fi  \n",
       "13                    Action|Comedy|War  \n",
       "12                        Action|Comedy  \n",
       "11              Action|Romance|Thriller  \n",
       "10                               Comedy  \n",
       "9          Animation|Children's|Musical  \n",
       "8          Adventure|Children's|Romance  \n",
       "7                    Comedy|Romance|War  \n",
       "6                     Children's|Comedy  \n",
       "5               Action|Adventure|Sci-Fi  \n",
       "4               Action|Adventure|Sci-Fi  \n",
       "3                 Action|Drama|Thriller  \n",
       "2                                Comedy  \n",
       "21                 Animation|Children's  "
      ]
     },
     "execution_count": 51,
     "metadata": {},
     "output_type": "execute_result"
    }
   ],
   "source": [
    "user_ratings =ratings_df[ratings_df.user_id==sample_user].merge(\n",
    "               movies_df, on='movie_id'\n",
    "              ).sort_values(by='rating',ascending=False)\n",
    "user_ratings_movies = user_ratings.movie_id.tolist()\n",
    "user_ratings"
   ]
  },
  {
   "cell_type": "code",
   "execution_count": 55,
   "metadata": {
    "collapsed": false
   },
   "outputs": [
    {
     "name": "stderr",
     "output_type": "stream",
     "text": [
      "/home/manuel/anaconda3/envs/pydata/lib/python3.5/site-packages/ipykernel/__main__.py:5: FutureWarning: sort(columns=....) is deprecated, use sort_values(by=.....)\n"
     ]
    },
    {
     "data": {
      "text/html": [
       "<div>\n",
       "<table border=\"1\" class=\"dataframe\">\n",
       "  <thead>\n",
       "    <tr style=\"text-align: right;\">\n",
       "      <th></th>\n",
       "      <th>movie_id</th>\n",
       "      <th>pred_score</th>\n",
       "      <th>movie_title</th>\n",
       "      <th>movie_genre</th>\n",
       "    </tr>\n",
       "  </thead>\n",
       "  <tbody>\n",
       "    <tr>\n",
       "      <th>0</th>\n",
       "      <td>9</td>\n",
       "      <td>5.000206</td>\n",
       "      <td>Sudden Death (1995)</td>\n",
       "      <td>Action</td>\n",
       "    </tr>\n",
       "    <tr>\n",
       "      <th>1</th>\n",
       "      <td>14</td>\n",
       "      <td>4.999915</td>\n",
       "      <td>Nixon (1995)</td>\n",
       "      <td>Drama</td>\n",
       "    </tr>\n",
       "    <tr>\n",
       "      <th>2</th>\n",
       "      <td>19</td>\n",
       "      <td>4.999450</td>\n",
       "      <td>Ace Ventura: When Nature Calls (1995)</td>\n",
       "      <td>Comedy</td>\n",
       "    </tr>\n",
       "    <tr>\n",
       "      <th>3</th>\n",
       "      <td>11</td>\n",
       "      <td>4.999285</td>\n",
       "      <td>American President, The (1995)</td>\n",
       "      <td>Comedy|Drama|Romance</td>\n",
       "    </tr>\n",
       "    <tr>\n",
       "      <th>4</th>\n",
       "      <td>7</td>\n",
       "      <td>4.999271</td>\n",
       "      <td>Sabrina (1995)</td>\n",
       "      <td>Comedy|Romance</td>\n",
       "    </tr>\n",
       "    <tr>\n",
       "      <th>5</th>\n",
       "      <td>2</td>\n",
       "      <td>4.999075</td>\n",
       "      <td>Jumanji (1995)</td>\n",
       "      <td>Adventure|Children's|Fantasy</td>\n",
       "    </tr>\n",
       "    <tr>\n",
       "      <th>6</th>\n",
       "      <td>4</td>\n",
       "      <td>4.998980</td>\n",
       "      <td>Waiting to Exhale (1995)</td>\n",
       "      <td>Comedy|Drama</td>\n",
       "    </tr>\n",
       "    <tr>\n",
       "      <th>7</th>\n",
       "      <td>5</td>\n",
       "      <td>4.998887</td>\n",
       "      <td>Father of the Bride Part II (1995)</td>\n",
       "      <td>Comedy</td>\n",
       "    </tr>\n",
       "    <tr>\n",
       "      <th>8</th>\n",
       "      <td>3</td>\n",
       "      <td>4.998816</td>\n",
       "      <td>Grumpier Old Men (1995)</td>\n",
       "      <td>Comedy|Romance</td>\n",
       "    </tr>\n",
       "    <tr>\n",
       "      <th>9</th>\n",
       "      <td>18</td>\n",
       "      <td>4.998762</td>\n",
       "      <td>Four Rooms (1995)</td>\n",
       "      <td>Thriller</td>\n",
       "    </tr>\n",
       "    <tr>\n",
       "      <th>10</th>\n",
       "      <td>17</td>\n",
       "      <td>4.998424</td>\n",
       "      <td>Sense and Sensibility (1995)</td>\n",
       "      <td>Drama|Romance</td>\n",
       "    </tr>\n",
       "    <tr>\n",
       "      <th>11</th>\n",
       "      <td>16</td>\n",
       "      <td>4.997890</td>\n",
       "      <td>Casino (1995)</td>\n",
       "      <td>Drama|Thriller</td>\n",
       "    </tr>\n",
       "    <tr>\n",
       "      <th>12</th>\n",
       "      <td>1</td>\n",
       "      <td>4.997496</td>\n",
       "      <td>Toy Story (1995)</td>\n",
       "      <td>Animation|Children's|Comedy</td>\n",
       "    </tr>\n",
       "    <tr>\n",
       "      <th>13</th>\n",
       "      <td>20</td>\n",
       "      <td>4.996923</td>\n",
       "      <td>Money Train (1995)</td>\n",
       "      <td>Action</td>\n",
       "    </tr>\n",
       "    <tr>\n",
       "      <th>14</th>\n",
       "      <td>10</td>\n",
       "      <td>4.996737</td>\n",
       "      <td>GoldenEye (1995)</td>\n",
       "      <td>Action|Adventure|Thriller</td>\n",
       "    </tr>\n",
       "    <tr>\n",
       "      <th>15</th>\n",
       "      <td>15</td>\n",
       "      <td>4.996037</td>\n",
       "      <td>Cutthroat Island (1995)</td>\n",
       "      <td>Action|Adventure|Romance</td>\n",
       "    </tr>\n",
       "    <tr>\n",
       "      <th>16</th>\n",
       "      <td>12</td>\n",
       "      <td>4.995698</td>\n",
       "      <td>Dracula: Dead and Loving It (1995)</td>\n",
       "      <td>Comedy|Horror</td>\n",
       "    </tr>\n",
       "    <tr>\n",
       "      <th>17</th>\n",
       "      <td>13</td>\n",
       "      <td>4.994094</td>\n",
       "      <td>Balto (1995)</td>\n",
       "      <td>Animation|Children's</td>\n",
       "    </tr>\n",
       "    <tr>\n",
       "      <th>18</th>\n",
       "      <td>8</td>\n",
       "      <td>4.990361</td>\n",
       "      <td>Tom and Huck (1995)</td>\n",
       "      <td>Adventure|Children's</td>\n",
       "    </tr>\n",
       "    <tr>\n",
       "      <th>19</th>\n",
       "      <td>6</td>\n",
       "      <td>4.986191</td>\n",
       "      <td>Heat (1995)</td>\n",
       "      <td>Action|Crime|Thriller</td>\n",
       "    </tr>\n",
       "  </tbody>\n",
       "</table>\n",
       "</div>"
      ],
      "text/plain": [
       "    movie_id  pred_score                            movie_title  \\\n",
       "0          9    5.000206                    Sudden Death (1995)   \n",
       "1         14    4.999915                           Nixon (1995)   \n",
       "2         19    4.999450  Ace Ventura: When Nature Calls (1995)   \n",
       "3         11    4.999285         American President, The (1995)   \n",
       "4          7    4.999271                         Sabrina (1995)   \n",
       "5          2    4.999075                         Jumanji (1995)   \n",
       "6          4    4.998980               Waiting to Exhale (1995)   \n",
       "7          5    4.998887     Father of the Bride Part II (1995)   \n",
       "8          3    4.998816                Grumpier Old Men (1995)   \n",
       "9         18    4.998762                      Four Rooms (1995)   \n",
       "10        17    4.998424           Sense and Sensibility (1995)   \n",
       "11        16    4.997890                          Casino (1995)   \n",
       "12         1    4.997496                       Toy Story (1995)   \n",
       "13        20    4.996923                     Money Train (1995)   \n",
       "14        10    4.996737                       GoldenEye (1995)   \n",
       "15        15    4.996037                Cutthroat Island (1995)   \n",
       "16        12    4.995698     Dracula: Dead and Loving It (1995)   \n",
       "17        13    4.994094                           Balto (1995)   \n",
       "18         8    4.990361                    Tom and Huck (1995)   \n",
       "19         6    4.986191                            Heat (1995)   \n",
       "\n",
       "                     movie_genre  \n",
       "0                         Action  \n",
       "1                          Drama  \n",
       "2                         Comedy  \n",
       "3           Comedy|Drama|Romance  \n",
       "4                 Comedy|Romance  \n",
       "5   Adventure|Children's|Fantasy  \n",
       "6                   Comedy|Drama  \n",
       "7                         Comedy  \n",
       "8                 Comedy|Romance  \n",
       "9                       Thriller  \n",
       "10                 Drama|Romance  \n",
       "11                Drama|Thriller  \n",
       "12   Animation|Children's|Comedy  \n",
       "13                        Action  \n",
       "14     Action|Adventure|Thriller  \n",
       "15      Action|Adventure|Romance  \n",
       "16                 Comedy|Horror  \n",
       "17          Animation|Children's  \n",
       "18          Adventure|Children's  \n",
       "19         Action|Crime|Thriller  "
      ]
     },
     "execution_count": 55,
     "metadata": {},
     "output_type": "execute_result"
    }
   ],
   "source": [
    "user_predicted_scores_df = pd.DataFrame({\n",
    "        'movie_id': list(movie_indices.values()),\n",
    "        'pred_score': X_lr[user_indices[sample_user],:]})\n",
    "user_predicted_scores_df = user_predicted_scores_df[-user_predicted_scores_df.movie_id.isin(user_ratings_movies)]\n",
    "user_predicted_scores_df.sort(columns=['pred_score'], ascending=False).merge(movies_df, on='movie_id').head(20)"
   ]
  },
  {
   "cell_type": "markdown",
   "metadata": {
    "collapsed": true
   },
   "source": [
    "http://blogs.gartner.com/martin-kihn/how-to-build-a-recommender-system-in-python/"
   ]
  },
  {
   "cell_type": "markdown",
   "metadata": {
    "collapsed": true
   },
   "source": [
    "### We try http://maheshakya.github.io/gsoc/2014/05/18/preparing-a-bench-marking-data-set-using-singula-value-decomposition-on-movielens-data.html"
   ]
  }
 ],
 "metadata": {
  "celltoolbar": "Slideshow",
  "kernelspec": {
   "display_name": "Python 3",
   "language": "python",
   "name": "python3"
  },
  "language_info": {
   "codemirror_mode": {
    "name": "ipython",
    "version": 3
   },
   "file_extension": ".py",
   "mimetype": "text/x-python",
   "name": "python",
   "nbconvert_exporter": "python",
   "pygments_lexer": "ipython3",
   "version": "3.5.1"
  }
 },
 "nbformat": 4,
 "nbformat_minor": 0
}
